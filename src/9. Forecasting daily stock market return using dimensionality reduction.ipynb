{
 "cells": [
  {
   "cell_type": "code",
   "execution_count": 132,
   "id": "05602f58",
   "metadata": {},
   "outputs": [],
   "source": [
    "import numpy as np \n",
    "import pandas as pd \n",
    "import yfinance as yf\n",
    "from fredapi import Fred\n",
    "import pandas as pd"
   ]
  },
  {
   "cell_type": "code",
   "execution_count": 133,
   "id": "8f6ac963",
   "metadata": {},
   "outputs": [
    {
     "name": "stdout",
     "output_type": "stream",
     "text": [
      "[*********************100%***********************]  1 of 1 completed\n"
     ]
    },
    {
     "data": {
      "text/html": [
       "<div>\n",
       "<style scoped>\n",
       "    .dataframe tbody tr th:only-of-type {\n",
       "        vertical-align: middle;\n",
       "    }\n",
       "\n",
       "    .dataframe tbody tr th {\n",
       "        vertical-align: top;\n",
       "    }\n",
       "\n",
       "    .dataframe thead th {\n",
       "        text-align: right;\n",
       "    }\n",
       "</style>\n",
       "<table border=\"1\" class=\"dataframe\">\n",
       "  <thead>\n",
       "    <tr style=\"text-align: right;\">\n",
       "      <th></th>\n",
       "      <th>Open</th>\n",
       "      <th>High</th>\n",
       "      <th>Low</th>\n",
       "      <th>Close</th>\n",
       "      <th>Adj Close</th>\n",
       "      <th>Volume</th>\n",
       "    </tr>\n",
       "    <tr>\n",
       "      <th>Date</th>\n",
       "      <th></th>\n",
       "      <th></th>\n",
       "      <th></th>\n",
       "      <th></th>\n",
       "      <th></th>\n",
       "      <th></th>\n",
       "    </tr>\n",
       "  </thead>\n",
       "  <tbody>\n",
       "    <tr>\n",
       "      <th>1999-12-31</th>\n",
       "      <td>146.843750</td>\n",
       "      <td>147.500000</td>\n",
       "      <td>146.250000</td>\n",
       "      <td>146.875000</td>\n",
       "      <td>97.509476</td>\n",
       "      <td>3172700</td>\n",
       "    </tr>\n",
       "    <tr>\n",
       "      <th>2000-01-03</th>\n",
       "      <td>148.250000</td>\n",
       "      <td>148.250000</td>\n",
       "      <td>143.875000</td>\n",
       "      <td>145.437500</td>\n",
       "      <td>96.555084</td>\n",
       "      <td>8164300</td>\n",
       "    </tr>\n",
       "    <tr>\n",
       "      <th>2000-01-04</th>\n",
       "      <td>143.531250</td>\n",
       "      <td>144.062500</td>\n",
       "      <td>139.640625</td>\n",
       "      <td>139.750000</td>\n",
       "      <td>92.779175</td>\n",
       "      <td>8089800</td>\n",
       "    </tr>\n",
       "    <tr>\n",
       "      <th>2000-01-05</th>\n",
       "      <td>139.937500</td>\n",
       "      <td>141.531250</td>\n",
       "      <td>137.250000</td>\n",
       "      <td>140.000000</td>\n",
       "      <td>92.945175</td>\n",
       "      <td>12177900</td>\n",
       "    </tr>\n",
       "    <tr>\n",
       "      <th>2000-01-06</th>\n",
       "      <td>139.625000</td>\n",
       "      <td>141.500000</td>\n",
       "      <td>137.750000</td>\n",
       "      <td>137.750000</td>\n",
       "      <td>91.451393</td>\n",
       "      <td>6227200</td>\n",
       "    </tr>\n",
       "    <tr>\n",
       "      <th>...</th>\n",
       "      <td>...</td>\n",
       "      <td>...</td>\n",
       "      <td>...</td>\n",
       "      <td>...</td>\n",
       "      <td>...</td>\n",
       "      <td>...</td>\n",
       "    </tr>\n",
       "    <tr>\n",
       "      <th>2020-12-23</th>\n",
       "      <td>368.279999</td>\n",
       "      <td>369.619995</td>\n",
       "      <td>367.220001</td>\n",
       "      <td>367.570007</td>\n",
       "      <td>361.611481</td>\n",
       "      <td>46201400</td>\n",
       "    </tr>\n",
       "    <tr>\n",
       "      <th>2020-12-24</th>\n",
       "      <td>368.079987</td>\n",
       "      <td>369.029999</td>\n",
       "      <td>367.450012</td>\n",
       "      <td>369.000000</td>\n",
       "      <td>363.018250</td>\n",
       "      <td>26457900</td>\n",
       "    </tr>\n",
       "    <tr>\n",
       "      <th>2020-12-28</th>\n",
       "      <td>371.739990</td>\n",
       "      <td>372.589996</td>\n",
       "      <td>371.070007</td>\n",
       "      <td>372.170013</td>\n",
       "      <td>366.136841</td>\n",
       "      <td>39000400</td>\n",
       "    </tr>\n",
       "    <tr>\n",
       "      <th>2020-12-29</th>\n",
       "      <td>373.809998</td>\n",
       "      <td>374.000000</td>\n",
       "      <td>370.829987</td>\n",
       "      <td>371.459991</td>\n",
       "      <td>365.438324</td>\n",
       "      <td>53680500</td>\n",
       "    </tr>\n",
       "    <tr>\n",
       "      <th>2020-12-30</th>\n",
       "      <td>372.339996</td>\n",
       "      <td>373.100006</td>\n",
       "      <td>371.570007</td>\n",
       "      <td>371.989990</td>\n",
       "      <td>365.959747</td>\n",
       "      <td>49455300</td>\n",
       "    </tr>\n",
       "  </tbody>\n",
       "</table>\n",
       "<p>5284 rows × 6 columns</p>\n",
       "</div>"
      ],
      "text/plain": [
       "                  Open        High         Low       Close   Adj Close  \\\n",
       "Date                                                                     \n",
       "1999-12-31  146.843750  147.500000  146.250000  146.875000   97.509476   \n",
       "2000-01-03  148.250000  148.250000  143.875000  145.437500   96.555084   \n",
       "2000-01-04  143.531250  144.062500  139.640625  139.750000   92.779175   \n",
       "2000-01-05  139.937500  141.531250  137.250000  140.000000   92.945175   \n",
       "2000-01-06  139.625000  141.500000  137.750000  137.750000   91.451393   \n",
       "...                ...         ...         ...         ...         ...   \n",
       "2020-12-23  368.279999  369.619995  367.220001  367.570007  361.611481   \n",
       "2020-12-24  368.079987  369.029999  367.450012  369.000000  363.018250   \n",
       "2020-12-28  371.739990  372.589996  371.070007  372.170013  366.136841   \n",
       "2020-12-29  373.809998  374.000000  370.829987  371.459991  365.438324   \n",
       "2020-12-30  372.339996  373.100006  371.570007  371.989990  365.959747   \n",
       "\n",
       "              Volume  \n",
       "Date                  \n",
       "1999-12-31   3172700  \n",
       "2000-01-03   8164300  \n",
       "2000-01-04   8089800  \n",
       "2000-01-05  12177900  \n",
       "2000-01-06   6227200  \n",
       "...              ...  \n",
       "2020-12-23  46201400  \n",
       "2020-12-24  26457900  \n",
       "2020-12-28  39000400  \n",
       "2020-12-29  53680500  \n",
       "2020-12-30  49455300  \n",
       "\n",
       "[5284 rows x 6 columns]"
      ]
     },
     "execution_count": 133,
     "metadata": {},
     "output_type": "execute_result"
    }
   ],
   "source": [
    "start_date=\"2000-01-01\"\n",
    "end_date=\"2020-12-31\"\n",
    "\n",
    "df = yf.download(\"SPY\", start=start_date, end=end_date)\n",
    "df"
   ]
  },
  {
   "cell_type": "code",
   "execution_count": 134,
   "id": "6ac7d548",
   "metadata": {},
   "outputs": [
    {
     "name": "stdout",
     "output_type": "stream",
     "text": [
      "[*********************100%***********************]  1 of 1 completed\n",
      "[*********************100%***********************]  1 of 1 completed\n",
      "[*********************100%***********************]  1 of 1 completed\n",
      "[*********************100%***********************]  1 of 1 completed\n",
      "[*********************100%***********************]  1 of 1 completed\n",
      "[*********************100%***********************]  1 of 1 completed\n",
      "[*********************100%***********************]  1 of 1 completed\n",
      "[*********************100%***********************]  1 of 1 completed\n",
      "[*********************100%***********************]  1 of 1 completed\n",
      "[*********************100%***********************]  1 of 1 completed\n",
      "[*********************100%***********************]  1 of 1 completed\n",
      "[*********************100%***********************]  1 of 1 completed\n",
      "[*********************100%***********************]  1 of 1 completed\n",
      "[*********************100%***********************]  1 of 1 completed\n",
      "[*********************100%***********************]  1 of 1 completed\n"
     ]
    }
   ],
   "source": [
    "#Calculate features\n",
    "\n",
    "#1 Date_SPY\n",
    "\n",
    "#2 Close_SPY\n",
    "\n",
    "#3 SPYt\n",
    "df['SPYt']=df['Adj Close'].pct_change()\n",
    "# df_SPY['SPYt']=df_SPY['Adj Close'].resample('M').ffill().pct_change()\n",
    "\n",
    "#4 SPYt1\n",
    "df['Adj Close_l1'] = df['Adj Close'].shift(1)\n",
    "df['SPYt1']=df['Adj Close_l1'].pct_change()\n",
    "\n",
    "#5 SPYt2\n",
    "df['Adj Close_l2'] = df['Adj Close'].shift(2)\n",
    "df['SPYt2']=df['Adj Close_l2'].pct_change()\n",
    "\n",
    "#6 SPYt3\n",
    "df['Adj Close_l3'] = df['Adj Close'].shift(3)\n",
    "df['SPYt3']=df['Adj Close_l3'].pct_change()\n",
    "\n",
    "#7 RDP5\n",
    "df['Adj Close_l5'] = df['Adj Close'].shift(5)\n",
    "df['RDP5']=(df['Adj Close']-df['Adj Close_l5'])/df['Adj Close_l5']*100\n",
    "\n",
    "#8 RDP10\n",
    "df['Adj Close_l10'] = df['Adj Close'].shift(10)\n",
    "df['RDP10']=(df['Adj Close']-df['Adj Close_l10'])/df['Adj Close_l10']*100\n",
    "\n",
    "#9 RDP15\n",
    "df['Adj Close_l15'] = df['Adj Close'].shift(15)\n",
    "df['RDP15']=(df['Adj Close']-df['Adj Close_l15'])/df['Adj Close_l15']*100\n",
    "\n",
    "#10 RDP20\n",
    "df['Adj Close_l20'] = df['Adj Close'].shift(20)\n",
    "df['RDP20']=(df['Adj Close']-df['Adj Close_l20'])/df['Adj Close_l20']*100\n",
    "\n",
    "#11 EMA10\n",
    "def calculate_ema(prices, days, smoothing=2):\n",
    "    ema = []\n",
    "    for num_day in range(days-1):\n",
    "        ema.append('N/A')        \n",
    "    ema.append(sum(prices[:days]) / days)\n",
    "    for price in prices[days:]:\n",
    "        ema.append((price * (smoothing / (1 + days))) + ema[-1] * (1 - (smoothing / (1 + days))))\n",
    "    return ema\n",
    "df['EMA10']=calculate_ema(df['Adj Close'], 10)\n",
    "\n",
    "#12 EMA20\n",
    "df['EMA20']=calculate_ema(df['Adj Close'], 20)\n",
    "\n",
    "#13 EMA50\n",
    "df['EMA50']=calculate_ema(df['Adj Close'], 50)\n",
    "\n",
    "#14 EMA200\n",
    "df['EMA200']=calculate_ema(df['Adj Close'], 200)\n",
    "\n",
    "#15 HSI\n",
    "df_HSI = yf.download(\"HSI\", start=start_date, end=end_date)\n",
    "df['HSI']=df_HSI['Adj Close'].pct_change()\n",
    "\n",
    "#16 SSE*\n",
    "df_SSE = yf.download(\"000001.SS\", start=start_date, end=end_date)\n",
    "df['SSE']=df_SSE['Adj Close'].pct_change()\n",
    "\n",
    "#17 FCHI*\n",
    "df_FCHI = yf.download(\"^FCHI\", start=start_date, end=end_date)\n",
    "df['FCHI']=df_FCHI['Adj Close'].pct_change()\n",
    "\n",
    "#18 FTSE*\n",
    "df_FTSE = yf.download(\"^FTSE\", start=start_date, end=end_date)\n",
    "df['FTSE']=df_FTSE['Adj Close'].pct_change()\n",
    "\n",
    "#19 GDAXI*\n",
    "df_GDAXI = yf.download(\"^GDAXI\", start=start_date, end=end_date)\n",
    "df['GDAXI']=df_GDAXI['Adj Close'].pct_change()\n",
    "\n",
    "#20 DJI\n",
    "df_DJI = yf.download(\"DJI\", start=start_date, end=end_date)\n",
    "df['DJI']=df_DJI['Adj Close'].pct_change()\n",
    "\n",
    "#21 IXIC*\n",
    "df_IXIC = yf.download(\"^IXIC\", start=start_date, end=end_date)\n",
    "df['IXIC']=df_IXIC['Adj Close'].pct_change()\n",
    "\n",
    "#22 V\n",
    "df['V']=df['Volume'].pct_change()\n",
    "\n",
    "#23 AAPL\n",
    "df_AAPL = yf.download(\"AAPL\", start=start_date, end=end_date)\n",
    "df['AAPL']=df_AAPL['Adj Close'].pct_change()\n",
    "\n",
    "#24 MSFT\n",
    "df_MSFT = yf.download(\"MSFT\", start=start_date, end=end_date)\n",
    "df['MSFT']=df_MSFT['Adj Close'].pct_change()\n",
    "\n",
    "#25 XOM\n",
    "df_XOM = yf.download(\"XOM\", start=start_date, end=end_date)\n",
    "df['XOM']=df_XOM['Adj Close'].pct_change()\n",
    "\n",
    "#26 GE\n",
    "df_GE = yf.download(\"GE\", start=start_date, end=end_date)\n",
    "df['GE']=df_GE['Adj Close'].pct_change()\n",
    "\n",
    "#27 JNJ\n",
    "df_JNJ = yf.download(\"JNJ\", start=start_date, end=end_date)\n",
    "df['JNJ']=df_JNJ['Adj Close'].pct_change()\n",
    "\n",
    "#28 WFC\n",
    "df_WFC = yf.download(\"WFC\", start=start_date, end=end_date)\n",
    "df['WFC']=df_WFC['Adj Close'].pct_change()\n",
    "\n",
    "#29 AMZN\n",
    "df_AMZN = yf.download(\"AMZN\", start=start_date, end=end_date)\n",
    "df['AMZN']=df_AMZN['Adj Close'].pct_change()\n",
    "\n",
    "#30 JPM\n",
    "df_JPM = yf.download(\"JPM\", start=start_date, end=end_date)\n",
    "df['JPM']=df_JPM['Adj Close'].pct_change()"
   ]
  },
  {
   "cell_type": "code",
   "execution_count": 135,
   "id": "e91da72f",
   "metadata": {},
   "outputs": [
    {
     "data": {
      "text/plain": [
       "2001-07-31    3.61\n",
       "2001-08-01    3.60\n",
       "2001-08-02    3.60\n",
       "2001-08-03    3.58\n",
       "2001-08-06    3.58\n",
       "              ... \n",
       "2020-12-25     NaN\n",
       "2020-12-28    0.09\n",
       "2020-12-29    0.08\n",
       "2020-12-30    0.06\n",
       "2020-12-31    0.08\n",
       "Length: 5068, dtype: float64"
      ]
     },
     "execution_count": 135,
     "metadata": {},
     "output_type": "execute_result"
    }
   ],
   "source": [
    "# Fred API key: ab766afb0df13dba8492403a7865f852\n",
    "fred = Fred(api_key='ab766afb0df13dba8492403a7865f852')\n",
    "T1 = fred.get_series('DTB4WK', observation_start=start_date, observation_end=end_date)\n",
    "T1"
   ]
  },
  {
   "cell_type": "code",
   "execution_count": 136,
   "id": "0d10f73d",
   "metadata": {},
   "outputs": [
    {
     "data": {
      "text/plain": [
       "2000-01-03    5.27\n",
       "2000-01-04    5.27\n",
       "2000-01-05    5.28\n",
       "2000-01-06    5.25\n",
       "2000-01-07    5.22\n",
       "              ... \n",
       "2020-12-25     NaN\n",
       "2020-12-28    0.11\n",
       "2020-12-29    0.10\n",
       "2020-12-30    0.08\n",
       "2020-12-31    0.09\n",
       "Length: 5479, dtype: float64"
      ]
     },
     "execution_count": 136,
     "metadata": {},
     "output_type": "execute_result"
    }
   ],
   "source": [
    "T3 = fred.get_series('DTB3', observation_start=start_date, observation_end=end_date)\n",
    "T3"
   ]
  },
  {
   "cell_type": "code",
   "execution_count": 137,
   "id": "b4c4640a",
   "metadata": {},
   "outputs": [
    {
     "data": {
      "text/plain": [
       "2000-01-03    5.55\n",
       "2000-01-04    5.50\n",
       "2000-01-05    5.49\n",
       "2000-01-06    5.44\n",
       "2000-01-07    5.42\n",
       "              ... \n",
       "2020-12-25     NaN\n",
       "2020-12-28    0.11\n",
       "2020-12-29    0.12\n",
       "2020-12-30    0.09\n",
       "2020-12-31    0.09\n",
       "Length: 5479, dtype: float64"
      ]
     },
     "execution_count": 137,
     "metadata": {},
     "output_type": "execute_result"
    }
   ],
   "source": [
    "T6 = fred.get_series('DTB6', observation_start=start_date, observation_end=end_date)\n",
    "T6"
   ]
  },
  {
   "cell_type": "code",
   "execution_count": 138,
   "id": "b8b27182",
   "metadata": {},
   "outputs": [
    {
     "data": {
      "text/plain": [
       "2000-01-03    6.50\n",
       "2000-01-04    6.40\n",
       "2000-01-05    6.51\n",
       "2000-01-06    6.46\n",
       "2000-01-07    6.42\n",
       "              ... \n",
       "2020-12-25     NaN\n",
       "2020-12-28    0.38\n",
       "2020-12-29    0.37\n",
       "2020-12-30    0.37\n",
       "2020-12-31    0.36\n",
       "Length: 5479, dtype: float64"
      ]
     },
     "execution_count": 138,
     "metadata": {},
     "output_type": "execute_result"
    }
   ],
   "source": [
    "T60 = fred.get_series('DGS5', observation_start=start_date, observation_end=end_date)\n",
    "T60"
   ]
  },
  {
   "cell_type": "code",
   "execution_count": 139,
   "id": "298c04ed",
   "metadata": {},
   "outputs": [
    {
     "data": {
      "text/plain": [
       "2000-01-03    6.58\n",
       "2000-01-04    6.49\n",
       "2000-01-05    6.62\n",
       "2000-01-06    6.57\n",
       "2000-01-07    6.52\n",
       "              ... \n",
       "2020-12-25     NaN\n",
       "2020-12-28    0.94\n",
       "2020-12-29    0.94\n",
       "2020-12-30    0.93\n",
       "2020-12-31    0.93\n",
       "Length: 5479, dtype: float64"
      ]
     },
     "execution_count": 139,
     "metadata": {},
     "output_type": "execute_result"
    }
   ],
   "source": [
    "T120 = fred.get_series('DGS10', observation_start=start_date, observation_end=end_date)\n",
    "T120"
   ]
  },
  {
   "cell_type": "code",
   "execution_count": 140,
   "id": "9b77c1f1",
   "metadata": {},
   "outputs": [
    {
     "data": {
      "text/plain": [
       "2000-01-03    5.70\n",
       "2000-01-04    5.72\n",
       "2000-01-05    5.70\n",
       "2000-01-06    5.70\n",
       "2000-01-07    5.69\n",
       "              ... \n",
       "2013-06-24    0.16\n",
       "2013-06-25    0.16\n",
       "2013-06-26    0.16\n",
       "2013-06-27    0.16\n",
       "2013-06-28    0.17\n",
       "Length: 3520, dtype: float64"
      ]
     },
     "execution_count": 140,
     "metadata": {},
     "output_type": "execute_result"
    }
   ],
   "source": [
    "CD1 = fred.get_series('DCD1M', observation_start=start_date, observation_end=end_date)\n",
    "CD1"
   ]
  },
  {
   "cell_type": "code",
   "execution_count": 141,
   "id": "43c9675e",
   "metadata": {},
   "outputs": [
    {
     "data": {
      "text/plain": [
       "2000-01-03    5.89\n",
       "2000-01-04    5.93\n",
       "2000-01-05    5.94\n",
       "2000-01-06    5.94\n",
       "2000-01-07    5.96\n",
       "              ... \n",
       "2013-06-24    0.19\n",
       "2013-06-25    0.20\n",
       "2013-06-26    0.20\n",
       "2013-06-27    0.20\n",
       "2013-06-28    0.22\n",
       "Length: 3520, dtype: float64"
      ]
     },
     "execution_count": 141,
     "metadata": {},
     "output_type": "execute_result"
    }
   ],
   "source": [
    "CD3 = fred.get_series('DCD90', observation_start=start_date, observation_end=end_date)\n",
    "CD3"
   ]
  },
  {
   "cell_type": "code",
   "execution_count": 142,
   "id": "ffcdcca6",
   "metadata": {},
   "outputs": [
    {
     "data": {
      "text/plain": [
       "2000-01-03    6.05\n",
       "2000-01-04    6.14\n",
       "2000-01-05    6.13\n",
       "2000-01-06    6.15\n",
       "2000-01-07    6.17\n",
       "              ... \n",
       "2013-06-24    0.26\n",
       "2013-06-25    0.27\n",
       "2013-06-26    0.27\n",
       "2013-06-27    0.27\n",
       "2013-06-28    0.27\n",
       "Length: 3520, dtype: float64"
      ]
     },
     "execution_count": 142,
     "metadata": {},
     "output_type": "execute_result"
    }
   ],
   "source": [
    "CD6 = fred.get_series('DCD6M', observation_start=start_date, observation_end=end_date)\n",
    "CD6"
   ]
  },
  {
   "cell_type": "code",
   "execution_count": null,
   "id": "728a4706",
   "metadata": {},
   "outputs": [],
   "source": [
    "data = pd.read_csv(\"https://www.federalreserve.gov/datadownload/Output.aspx?rel=H15&series=bf17364827e38702b42a58cf8eaa3f78&lastobs=&from=&to=&filetype=csv&label=include&layout=seriescolumn&type=package\")\n",
    "data = data.iloc[5:,:]\n",
    "data"
   ]
  },
  {
   "cell_type": "code",
   "execution_count": null,
   "id": "0d3a39e9",
   "metadata": {},
   "outputs": [],
   "source": [
    "CTB3M = pd.Series(data['Market yield on U.S. Treasury securities at 3-month   constant maturity, quoted on investment basis'])\n",
    "CTB3M.reset_index(drop=True, inplace=True)\n",
    "CTB3M.index = data['Series Description'].values\n",
    "CTB3M = CTB3M.dropna()\n",
    "CTB3M = CTB3M[CTB3M.values != 'ND'].astype(float)\n",
    "CTB3M = CTB3M[(CTB3M.index >= start_date) & (CTB3M.index <= end_date)]\n",
    "CTB3M = CTB3M - CTB3M.shift()\n",
    "CTB3M"
   ]
  },
  {
   "cell_type": "code",
   "execution_count": null,
   "id": "cdf13041",
   "metadata": {},
   "outputs": [],
   "source": [
    "CTB6M = pd.Series(data['Market yield on U.S. Treasury securities at 6-month   constant maturity, quoted on investment basis'])\n",
    "CTB6M.reset_index(drop=True, inplace=True)\n",
    "CTB6M.index = data['Series Description'].values\n",
    "CTB6M = CTB6M.dropna()\n",
    "CTB6M = CTB6M[CTB6M.values != 'ND'].astype(float)\n",
    "CTB6M = CTB6M[(CTB6M.index >= start_date) & (CTB6M.index <= end_date)]\n",
    "CTB6M = CTB6M - CTB6M.shift()\n",
    "CTB6M"
   ]
  },
  {
   "cell_type": "code",
   "execution_count": null,
   "id": "60918ca4",
   "metadata": {},
   "outputs": [],
   "source": [
    "CTB1Y = pd.Series(data['Market yield on U.S. Treasury securities at 1-year   constant maturity, quoted on investment basis'])\n",
    "CTB1Y.reset_index(drop=True, inplace=True)\n",
    "CTB1Y.index = data['Series Description'].values\n",
    "CTB1Y = CTB1Y.dropna()\n",
    "CTB1Y = CTB1Y[CTB1Y.values != 'ND'].astype(float)\n",
    "CTB1Y = CTB1Y[(CTB1Y.index >= start_date) & (CTB1Y.index <= end_date)]\n",
    "CTB1Y = CTB1Y - CTB1Y.shift()\n",
    "CTB1Y"
   ]
  },
  {
   "cell_type": "code",
   "execution_count": null,
   "id": "ffb01814",
   "metadata": {},
   "outputs": [],
   "source": [
    "CTB5Y = pd.Series(data['Market yield on U.S. Treasury securities at 5-year   constant maturity, quoted on investment basis'])\n",
    "CTB5Y.reset_index(drop=True, inplace=True)\n",
    "CTB5Y.index = data['Series Description'].values\n",
    "CTB5Y = CTB5Y.dropna()\n",
    "CTB5Y = CTB5Y[CTB5Y.values != 'ND'].astype(float)\n",
    "CTB5Y = CTB5Y[(CTB5Y.index >= start_date) & (CTB5Y.index <= end_date)]\n",
    "CTB5Y = CTB5Y - CTB5Y.shift()\n",
    "CTB5Y"
   ]
  },
  {
   "cell_type": "code",
   "execution_count": null,
   "id": "c294f52b",
   "metadata": {},
   "outputs": [],
   "source": [
    "CTB10Y = pd.Series(data['Market yield on U.S. Treasury securities at 10-year   constant maturity, quoted on investment basis'])\n",
    "CTB10Y.reset_index(drop=True, inplace=True)\n",
    "CTB10Y.index = data['Series Description'].values\n",
    "CTB10Y = CTB10Y.dropna()\n",
    "CTB10Y = CTB10Y[CTB10Y.values != 'ND'].astype(float)\n",
    "CTB10Y = CTB10Y[(CTB10Y.index >= start_date) & (CTB10Y.index <= end_date)]\n",
    "CTB10Y = CTB10Y - CTB10Y.shift()\n",
    "CTB10Y"
   ]
  },
  {
   "cell_type": "code",
   "execution_count": null,
   "id": "abb13d05",
   "metadata": {},
   "outputs": [],
   "source": [
    "AAA = fred.get_series('DAAA', observation_start=start_date, observation_end=end_date)\n",
    "AAA"
   ]
  },
  {
   "cell_type": "code",
   "execution_count": null,
   "id": "59dbee36",
   "metadata": {},
   "outputs": [],
   "source": [
    "BAA = fred.get_series('DBAA', observation_start=start_date, observation_end=end_date)\n",
    "BAA"
   ]
  },
  {
   "cell_type": "code",
   "execution_count": null,
   "id": "d5b7f355",
   "metadata": {},
   "outputs": [],
   "source": [
    "def generate_feature(f1, f2):\n",
    "    '''\n",
    "    compare and choose latest start date and earliest end date\n",
    "    '''\n",
    "    start_date = max(f1.index[0], f2.index[0])\n",
    "    end_date = min(f1.index[-1], f2.index[-1])\n",
    "    feature = f1[(f1.index >= start_date) & (f1.index <= end_date)] \\\n",
    "        - f2[(f2.index >= start_date) & (f2.index <= end_date)]\n",
    "    return feature"
   ]
  },
  {
   "cell_type": "code",
   "execution_count": null,
   "id": "023381d3",
   "metadata": {},
   "outputs": [],
   "source": [
    "TE1 = generate_feature(T120, T1)\n",
    "TE1"
   ]
  },
  {
   "cell_type": "code",
   "execution_count": null,
   "id": "8a8fbe33",
   "metadata": {},
   "outputs": [],
   "source": [
    "TE2 = generate_feature(T120, T3)\n",
    "TE2"
   ]
  },
  {
   "cell_type": "code",
   "execution_count": null,
   "id": "3f48253e",
   "metadata": {},
   "outputs": [],
   "source": [
    "TE3 = generate_feature(T120, T6)\n",
    "TE3"
   ]
  },
  {
   "cell_type": "code",
   "execution_count": null,
   "id": "e2ecd30f",
   "metadata": {},
   "outputs": [],
   "source": [
    "TE5 = generate_feature(T3, T1)\n",
    "TE5"
   ]
  },
  {
   "cell_type": "code",
   "execution_count": null,
   "id": "8b90028d",
   "metadata": {},
   "outputs": [],
   "source": [
    "TE6 = generate_feature(T6, T1)\n",
    "TE6"
   ]
  },
  {
   "cell_type": "code",
   "execution_count": null,
   "id": "a9420694",
   "metadata": {},
   "outputs": [],
   "source": [
    "DE1 = generate_feature(BAA, AAA)\n",
    "DE1"
   ]
  },
  {
   "cell_type": "code",
   "execution_count": null,
   "id": "c435eae2",
   "metadata": {},
   "outputs": [],
   "source": [
    "DE2 = generate_feature(BAA, T120)\n",
    "DE2"
   ]
  },
  {
   "cell_type": "code",
   "execution_count": null,
   "id": "53fe5798",
   "metadata": {},
   "outputs": [],
   "source": [
    "DE4 = generate_feature(BAA, T6)\n",
    "DE4"
   ]
  },
  {
   "cell_type": "code",
   "execution_count": null,
   "id": "e2749f9e",
   "metadata": {},
   "outputs": [],
   "source": [
    "DE5 = generate_feature(BAA, T3)\n",
    "DE5"
   ]
  },
  {
   "cell_type": "code",
   "execution_count": null,
   "id": "16efc96d",
   "metadata": {},
   "outputs": [],
   "source": [
    "DE6 = generate_feature(BAA, T1)\n",
    "DE6"
   ]
  },
  {
   "cell_type": "code",
   "execution_count": null,
   "id": "fcd4677c",
   "metadata": {},
   "outputs": [],
   "source": [
    "DE7 = generate_feature(CD6, T6)\n",
    "DE7"
   ]
  },
  {
   "cell_type": "code",
   "execution_count": null,
   "id": "fcb9d610",
   "metadata": {},
   "outputs": [],
   "source": [
    "data = pd.read_excel(\"https://www.eia.gov/dnav/pet/hist_xls/RWTCd.xls\", sheet_name = 'Data 1', skiprows = 2)\n",
    "data = data.set_index('Date')\n",
    "data"
   ]
  },
  {
   "cell_type": "code",
   "execution_count": null,
   "id": "10a8d3e6",
   "metadata": {},
   "outputs": [],
   "source": [
    "OIL = (data - data.shift()) / data.shift() # need SPY dates as control\n",
    "OIL"
   ]
  },
  {
   "cell_type": "code",
   "execution_count": null,
   "id": "7710da4d",
   "metadata": {},
   "outputs": [],
   "source": [
    "import requests\n",
    "\n",
    "link = \"https://www.usagold.com/daily-gold-price-history/?ddYears=2000\"\n",
    "f = requests.get(link)\n",
    "print(f.text)"
   ]
  },
  {
   "cell_type": "code",
   "execution_count": null,
   "id": "d719f429",
   "metadata": {},
   "outputs": [],
   "source": [
    "Gold = pd.read_csv('/Users/jinghuang/Desktop/MAS/high-priority-papers/src/GOLD_2000-2020.csv')\n",
    "Gold"
   ]
  },
  {
   "cell_type": "code",
   "execution_count": null,
   "id": "64c084b6",
   "metadata": {},
   "outputs": [],
   "source": [
    "#pip install investpy\n",
    "import investpy"
   ]
  },
  {
   "cell_type": "code",
   "execution_count": null,
   "id": "62f69be2",
   "metadata": {},
   "outputs": [],
   "source": [
    "start_date = \"01/01/2000\"\n",
    "end_date = \"31/12/2020\""
   ]
  },
  {
   "cell_type": "code",
   "execution_count": null,
   "id": "3825dcb2",
   "metadata": {},
   "outputs": [],
   "source": [
    "USD_Y = investpy.get_currency_cross_historical_data(currency_cross='USD/JPY', from_date=start_date, to_date=end_date)\n",
    "USD_Y.head()"
   ]
  },
  {
   "cell_type": "code",
   "execution_count": null,
   "id": "21e46d01",
   "metadata": {},
   "outputs": [],
   "source": [
    "USD_GBP = investpy.get_currency_cross_historical_data(currency_cross='GBP/USD', from_date=start_date, to_date=end_date)\n",
    "USD_GBP.head()"
   ]
  },
  {
   "cell_type": "code",
   "execution_count": null,
   "id": "abf9759a",
   "metadata": {},
   "outputs": [],
   "source": [
    "USD_CAD = investpy.get_currency_cross_historical_data(currency_cross='USD/CAD', from_date=start_date, to_date=end_date)\n",
    "USD_CAD.head()"
   ]
  },
  {
   "cell_type": "code",
   "execution_count": null,
   "id": "2fde6009",
   "metadata": {},
   "outputs": [],
   "source": [
    "USD_CNY = investpy.get_currency_cross_historical_data(currency_cross='USD/CNY', from_date=start_date, to_date=end_date)\n",
    "USD_CNY.head()"
   ]
  }
 ],
 "metadata": {
  "kernelspec": {
   "display_name": "Python 3 (ipykernel)",
   "language": "python",
   "name": "python3"
  },
  "language_info": {
   "codemirror_mode": {
    "name": "ipython",
    "version": 3
   },
   "file_extension": ".py",
   "mimetype": "text/x-python",
   "name": "python",
   "nbconvert_exporter": "python",
   "pygments_lexer": "ipython3",
   "version": "3.9.7"
  }
 },
 "nbformat": 4,
 "nbformat_minor": 5
}
