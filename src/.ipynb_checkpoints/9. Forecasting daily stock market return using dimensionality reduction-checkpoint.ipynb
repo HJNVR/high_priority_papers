{
 "cells": [
  {
   "cell_type": "code",
   "execution_count": 1,
   "id": "05602f58",
   "metadata": {},
   "outputs": [],
   "source": [
    "import numpy as np \n",
    "import pandas as pd \n",
    "import yfinance as yf\n",
    "from fredapi import Fred\n",
    "import pandas as pd"
   ]
  },
  {
   "cell_type": "code",
   "execution_count": 2,
   "id": "8f6ac963",
   "metadata": {},
   "outputs": [
    {
     "name": "stdout",
     "output_type": "stream",
     "text": [
      "[*********************100%***********************]  1 of 1 completed\n"
     ]
    },
    {
     "data": {
      "text/html": [
       "<div>\n",
       "<style scoped>\n",
       "    .dataframe tbody tr th:only-of-type {\n",
       "        vertical-align: middle;\n",
       "    }\n",
       "\n",
       "    .dataframe tbody tr th {\n",
       "        vertical-align: top;\n",
       "    }\n",
       "\n",
       "    .dataframe thead th {\n",
       "        text-align: right;\n",
       "    }\n",
       "</style>\n",
       "<table border=\"1\" class=\"dataframe\">\n",
       "  <thead>\n",
       "    <tr style=\"text-align: right;\">\n",
       "      <th></th>\n",
       "      <th>Open</th>\n",
       "      <th>High</th>\n",
       "      <th>Low</th>\n",
       "      <th>Close</th>\n",
       "      <th>Adj Close</th>\n",
       "      <th>Volume</th>\n",
       "    </tr>\n",
       "    <tr>\n",
       "      <th>Date</th>\n",
       "      <th></th>\n",
       "      <th></th>\n",
       "      <th></th>\n",
       "      <th></th>\n",
       "      <th></th>\n",
       "      <th></th>\n",
       "    </tr>\n",
       "  </thead>\n",
       "  <tbody>\n",
       "    <tr>\n",
       "      <th>1999-12-31</th>\n",
       "      <td>146.843750</td>\n",
       "      <td>147.500000</td>\n",
       "      <td>146.250000</td>\n",
       "      <td>146.875000</td>\n",
       "      <td>97.509438</td>\n",
       "      <td>3172700</td>\n",
       "    </tr>\n",
       "    <tr>\n",
       "      <th>2000-01-03</th>\n",
       "      <td>148.250000</td>\n",
       "      <td>148.250000</td>\n",
       "      <td>143.875000</td>\n",
       "      <td>145.437500</td>\n",
       "      <td>96.555084</td>\n",
       "      <td>8164300</td>\n",
       "    </tr>\n",
       "    <tr>\n",
       "      <th>2000-01-04</th>\n",
       "      <td>143.531250</td>\n",
       "      <td>144.062500</td>\n",
       "      <td>139.640625</td>\n",
       "      <td>139.750000</td>\n",
       "      <td>92.779190</td>\n",
       "      <td>8089800</td>\n",
       "    </tr>\n",
       "    <tr>\n",
       "      <th>2000-01-05</th>\n",
       "      <td>139.937500</td>\n",
       "      <td>141.531250</td>\n",
       "      <td>137.250000</td>\n",
       "      <td>140.000000</td>\n",
       "      <td>92.945152</td>\n",
       "      <td>12177900</td>\n",
       "    </tr>\n",
       "    <tr>\n",
       "      <th>2000-01-06</th>\n",
       "      <td>139.625000</td>\n",
       "      <td>141.500000</td>\n",
       "      <td>137.750000</td>\n",
       "      <td>137.750000</td>\n",
       "      <td>91.451401</td>\n",
       "      <td>6227200</td>\n",
       "    </tr>\n",
       "    <tr>\n",
       "      <th>...</th>\n",
       "      <td>...</td>\n",
       "      <td>...</td>\n",
       "      <td>...</td>\n",
       "      <td>...</td>\n",
       "      <td>...</td>\n",
       "      <td>...</td>\n",
       "    </tr>\n",
       "    <tr>\n",
       "      <th>2020-12-23</th>\n",
       "      <td>368.279999</td>\n",
       "      <td>369.619995</td>\n",
       "      <td>367.220001</td>\n",
       "      <td>367.570007</td>\n",
       "      <td>361.611420</td>\n",
       "      <td>46201400</td>\n",
       "    </tr>\n",
       "    <tr>\n",
       "      <th>2020-12-24</th>\n",
       "      <td>368.079987</td>\n",
       "      <td>369.029999</td>\n",
       "      <td>367.450012</td>\n",
       "      <td>369.000000</td>\n",
       "      <td>363.018280</td>\n",
       "      <td>26457900</td>\n",
       "    </tr>\n",
       "    <tr>\n",
       "      <th>2020-12-28</th>\n",
       "      <td>371.739990</td>\n",
       "      <td>372.589996</td>\n",
       "      <td>371.070007</td>\n",
       "      <td>372.170013</td>\n",
       "      <td>366.136871</td>\n",
       "      <td>39000400</td>\n",
       "    </tr>\n",
       "    <tr>\n",
       "      <th>2020-12-29</th>\n",
       "      <td>373.809998</td>\n",
       "      <td>374.000000</td>\n",
       "      <td>370.829987</td>\n",
       "      <td>371.459991</td>\n",
       "      <td>365.438354</td>\n",
       "      <td>53680500</td>\n",
       "    </tr>\n",
       "    <tr>\n",
       "      <th>2020-12-30</th>\n",
       "      <td>372.339996</td>\n",
       "      <td>373.100006</td>\n",
       "      <td>371.570007</td>\n",
       "      <td>371.989990</td>\n",
       "      <td>365.959778</td>\n",
       "      <td>49455300</td>\n",
       "    </tr>\n",
       "  </tbody>\n",
       "</table>\n",
       "<p>5284 rows × 6 columns</p>\n",
       "</div>"
      ],
      "text/plain": [
       "                  Open        High         Low       Close   Adj Close  \\\n",
       "Date                                                                     \n",
       "1999-12-31  146.843750  147.500000  146.250000  146.875000   97.509438   \n",
       "2000-01-03  148.250000  148.250000  143.875000  145.437500   96.555084   \n",
       "2000-01-04  143.531250  144.062500  139.640625  139.750000   92.779190   \n",
       "2000-01-05  139.937500  141.531250  137.250000  140.000000   92.945152   \n",
       "2000-01-06  139.625000  141.500000  137.750000  137.750000   91.451401   \n",
       "...                ...         ...         ...         ...         ...   \n",
       "2020-12-23  368.279999  369.619995  367.220001  367.570007  361.611420   \n",
       "2020-12-24  368.079987  369.029999  367.450012  369.000000  363.018280   \n",
       "2020-12-28  371.739990  372.589996  371.070007  372.170013  366.136871   \n",
       "2020-12-29  373.809998  374.000000  370.829987  371.459991  365.438354   \n",
       "2020-12-30  372.339996  373.100006  371.570007  371.989990  365.959778   \n",
       "\n",
       "              Volume  \n",
       "Date                  \n",
       "1999-12-31   3172700  \n",
       "2000-01-03   8164300  \n",
       "2000-01-04   8089800  \n",
       "2000-01-05  12177900  \n",
       "2000-01-06   6227200  \n",
       "...              ...  \n",
       "2020-12-23  46201400  \n",
       "2020-12-24  26457900  \n",
       "2020-12-28  39000400  \n",
       "2020-12-29  53680500  \n",
       "2020-12-30  49455300  \n",
       "\n",
       "[5284 rows x 6 columns]"
      ]
     },
     "execution_count": 2,
     "metadata": {},
     "output_type": "execute_result"
    }
   ],
   "source": [
    "start_date=\"2000-01-01\"\n",
    "end_date=\"2020-12-31\"\n",
    "\n",
    "df = yf.download(\"SPY\", start=start_date, end=end_date)\n",
    "df"
   ]
  },
  {
   "cell_type": "code",
   "execution_count": 3,
   "id": "6ac7d548",
   "metadata": {},
   "outputs": [
    {
     "name": "stdout",
     "output_type": "stream",
     "text": [
      "[*********************100%***********************]  1 of 1 completed\n",
      "[*********************100%***********************]  1 of 1 completed\n",
      "[*********************100%***********************]  1 of 1 completed\n",
      "[*********************100%***********************]  1 of 1 completed\n",
      "[*********************100%***********************]  1 of 1 completed\n",
      "[*********************100%***********************]  1 of 1 completed\n",
      "[*********************100%***********************]  1 of 1 completed\n",
      "[*********************100%***********************]  1 of 1 completed\n",
      "[*********************100%***********************]  1 of 1 completed\n",
      "[*********************100%***********************]  1 of 1 completed\n",
      "[*********************100%***********************]  1 of 1 completed\n",
      "[*********************100%***********************]  1 of 1 completed\n",
      "[*********************100%***********************]  1 of 1 completed\n",
      "[*********************100%***********************]  1 of 1 completed\n",
      "[*********************100%***********************]  1 of 1 completed\n"
     ]
    }
   ],
   "source": [
    "#Calculate features\n",
    "\n",
    "#1 Date_SPY\n",
    "\n",
    "#2 Close_SPY\n",
    "\n",
    "#3 SPYt\n",
    "df['SPYt']=df['Adj Close'].pct_change()\n",
    "# df_SPY['SPYt']=df_SPY['Adj Close'].resample('M').ffill().pct_change()\n",
    "\n",
    "#4 SPYt1\n",
    "df['Adj Close_l1'] = df['Adj Close'].shift(1)\n",
    "df['SPYt1']=df['Adj Close_l1'].pct_change()\n",
    "\n",
    "#5 SPYt2\n",
    "df['Adj Close_l2'] = df['Adj Close'].shift(2)\n",
    "df['SPYt2']=df['Adj Close_l2'].pct_change()\n",
    "\n",
    "#6 SPYt3\n",
    "df['Adj Close_l3'] = df['Adj Close'].shift(3)\n",
    "df['SPYt3']=df['Adj Close_l3'].pct_change()\n",
    "\n",
    "#7 RDP5\n",
    "df['Adj Close_l5'] = df['Adj Close'].shift(5)\n",
    "df['RDP5']=(df['Adj Close']-df['Adj Close_l5'])/df['Adj Close_l5']*100\n",
    "\n",
    "#8 RDP10\n",
    "df['Adj Close_l10'] = df['Adj Close'].shift(10)\n",
    "df['RDP10']=(df['Adj Close']-df['Adj Close_l10'])/df['Adj Close_l10']*100\n",
    "\n",
    "#9 RDP15\n",
    "df['Adj Close_l15'] = df['Adj Close'].shift(15)\n",
    "df['RDP15']=(df['Adj Close']-df['Adj Close_l15'])/df['Adj Close_l15']*100\n",
    "\n",
    "#10 RDP20\n",
    "df['Adj Close_l20'] = df['Adj Close'].shift(20)\n",
    "df['RDP20']=(df['Adj Close']-df['Adj Close_l20'])/df['Adj Close_l20']*100\n",
    "\n",
    "#11 EMA10\n",
    "def calculate_ema(prices, days, smoothing=2):\n",
    "    ema = []\n",
    "    for num_day in range(days-1):\n",
    "        ema.append('N/A')        \n",
    "    ema.append(sum(prices[:days]) / days)\n",
    "    for price in prices[days:]:\n",
    "        ema.append((price * (smoothing / (1 + days))) + ema[-1] * (1 - (smoothing / (1 + days))))\n",
    "    return ema\n",
    "df['EMA10']=calculate_ema(df['Adj Close'], 10)\n",
    "\n",
    "#12 EMA20\n",
    "df['EMA20']=calculate_ema(df['Adj Close'], 20)\n",
    "\n",
    "#13 EMA50\n",
    "df['EMA50']=calculate_ema(df['Adj Close'], 50)\n",
    "\n",
    "#14 EMA200\n",
    "df['EMA200']=calculate_ema(df['Adj Close'], 200)\n",
    "\n",
    "#15 HSI\n",
    "df_HSI = yf.download(\"HSI\", start=start_date, end=end_date)\n",
    "df['HSI']=df_HSI['Adj Close'].pct_change()\n",
    "\n",
    "#16 SSE*\n",
    "df_SSE = yf.download(\"000001.SS\", start=start_date, end=end_date)\n",
    "df['SSE']=df_SSE['Adj Close'].pct_change()\n",
    "\n",
    "#17 FCHI*\n",
    "df_FCHI = yf.download(\"^FCHI\", start=start_date, end=end_date)\n",
    "df['FCHI']=df_FCHI['Adj Close'].pct_change()\n",
    "\n",
    "#18 FTSE*\n",
    "df_FTSE = yf.download(\"^FTSE\", start=start_date, end=end_date)\n",
    "df['FTSE']=df_FTSE['Adj Close'].pct_change()\n",
    "\n",
    "#19 GDAXI*\n",
    "df_GDAXI = yf.download(\"^GDAXI\", start=start_date, end=end_date)\n",
    "df['GDAXI']=df_GDAXI['Adj Close'].pct_change()\n",
    "\n",
    "#20 DJI\n",
    "df_DJI = yf.download(\"DJI\", start=start_date, end=end_date)\n",
    "df['DJI']=df_DJI['Adj Close'].pct_change()\n",
    "\n",
    "#21 IXIC*\n",
    "df_IXIC = yf.download(\"^IXIC\", start=start_date, end=end_date)\n",
    "df['IXIC']=df_IXIC['Adj Close'].pct_change()\n",
    "\n",
    "#22 V\n",
    "df['V']=df['Volume'].pct_change()\n",
    "\n",
    "#23 AAPL\n",
    "df_AAPL = yf.download(\"AAPL\", start=start_date, end=end_date)\n",
    "df['AAPL']=df_AAPL['Adj Close'].pct_change()\n",
    "\n",
    "#24 MSFT\n",
    "df_MSFT = yf.download(\"MSFT\", start=start_date, end=end_date)\n",
    "df['MSFT']=df_MSFT['Adj Close'].pct_change()\n",
    "\n",
    "#25 XOM\n",
    "df_XOM = yf.download(\"XOM\", start=start_date, end=end_date)\n",
    "df['XOM']=df_XOM['Adj Close'].pct_change()\n",
    "\n",
    "#26 GE\n",
    "df_GE = yf.download(\"GE\", start=start_date, end=end_date)\n",
    "df['GE']=df_GE['Adj Close'].pct_change()\n",
    "\n",
    "#27 JNJ\n",
    "df_JNJ = yf.download(\"JNJ\", start=start_date, end=end_date)\n",
    "df['JNJ']=df_JNJ['Adj Close'].pct_change()\n",
    "\n",
    "#28 WFC\n",
    "df_WFC = yf.download(\"WFC\", start=start_date, end=end_date)\n",
    "df['WFC']=df_WFC['Adj Close'].pct_change()\n",
    "\n",
    "#29 AMZN\n",
    "df_AMZN = yf.download(\"AMZN\", start=start_date, end=end_date)\n",
    "df['AMZN']=df_AMZN['Adj Close'].pct_change()\n",
    "\n",
    "#30 JPM\n",
    "df_JPM = yf.download(\"JPM\", start=start_date, end=end_date)\n",
    "df['JPM']=df_JPM['Adj Close'].pct_change()"
   ]
  },
  {
   "cell_type": "code",
   "execution_count": 87,
   "id": "d80c9816",
   "metadata": {},
   "outputs": [
    {
     "data": {
      "text/plain": [
       "Date\n",
       "1999-12-31    0.000000\n",
       "2000-01-03    0.000000\n",
       "2000-01-04    0.000000\n",
       "2000-01-05    0.000000\n",
       "2000-01-06    0.000000\n",
       "                ...   \n",
       "2020-12-23    0.639819\n",
       "2020-12-24    1.058922\n",
       "2020-12-28    1.056226\n",
       "2020-12-29    1.071129\n",
       "2020-12-30    0.920021\n",
       "Name: RDP15, Length: 5284, dtype: float64"
      ]
     },
     "execution_count": 87,
     "metadata": {},
     "output_type": "execute_result"
    }
   ],
   "source": [
    "df['RDP15'].fillna(0)"
   ]
  },
  {
   "cell_type": "code",
   "execution_count": 91,
   "id": "b053e487",
   "metadata": {},
   "outputs": [
    {
     "name": "stderr",
     "output_type": "stream",
     "text": [
      "/var/folders/pf/6m70llld5kz3jp5trc8kh13w0000gn/T/ipykernel_1953/3170093976.py:1: FutureWarning: In a future version of pandas all arguments of Series.fillna except for the argument 'value' will be keyword-only\n",
      "  df['EMA10'].fillna('NA', 0)\n"
     ]
    },
    {
     "ename": "ValueError",
     "evalue": "Cannot specify both 'value' and 'method'.",
     "output_type": "error",
     "traceback": [
      "\u001b[0;31m---------------------------------------------------------------------------\u001b[0m",
      "\u001b[0;31mValueError\u001b[0m                                Traceback (most recent call last)",
      "\u001b[0;32m/var/folders/pf/6m70llld5kz3jp5trc8kh13w0000gn/T/ipykernel_1953/3170093976.py\u001b[0m in \u001b[0;36m<module>\u001b[0;34m\u001b[0m\n\u001b[0;32m----> 1\u001b[0;31m \u001b[0mdf\u001b[0m\u001b[0;34m[\u001b[0m\u001b[0;34m'EMA10'\u001b[0m\u001b[0;34m]\u001b[0m\u001b[0;34m.\u001b[0m\u001b[0mfillna\u001b[0m\u001b[0;34m(\u001b[0m\u001b[0;34m'NA'\u001b[0m\u001b[0;34m,\u001b[0m \u001b[0;36m0\u001b[0m\u001b[0;34m)\u001b[0m\u001b[0;34m\u001b[0m\u001b[0;34m\u001b[0m\u001b[0m\n\u001b[0m",
      "\u001b[0;32m~/opt/anaconda3/lib/python3.9/site-packages/pandas/util/_decorators.py\u001b[0m in \u001b[0;36mwrapper\u001b[0;34m(*args, **kwargs)\u001b[0m\n\u001b[1;32m    309\u001b[0m                     \u001b[0mstacklevel\u001b[0m\u001b[0;34m=\u001b[0m\u001b[0mstacklevel\u001b[0m\u001b[0;34m,\u001b[0m\u001b[0;34m\u001b[0m\u001b[0;34m\u001b[0m\u001b[0m\n\u001b[1;32m    310\u001b[0m                 )\n\u001b[0;32m--> 311\u001b[0;31m             \u001b[0;32mreturn\u001b[0m \u001b[0mfunc\u001b[0m\u001b[0;34m(\u001b[0m\u001b[0;34m*\u001b[0m\u001b[0margs\u001b[0m\u001b[0;34m,\u001b[0m \u001b[0;34m**\u001b[0m\u001b[0mkwargs\u001b[0m\u001b[0;34m)\u001b[0m\u001b[0;34m\u001b[0m\u001b[0;34m\u001b[0m\u001b[0m\n\u001b[0m\u001b[1;32m    312\u001b[0m \u001b[0;34m\u001b[0m\u001b[0m\n\u001b[1;32m    313\u001b[0m         \u001b[0;32mreturn\u001b[0m \u001b[0mwrapper\u001b[0m\u001b[0;34m\u001b[0m\u001b[0;34m\u001b[0m\u001b[0m\n",
      "\u001b[0;32m~/opt/anaconda3/lib/python3.9/site-packages/pandas/core/series.py\u001b[0m in \u001b[0;36mfillna\u001b[0;34m(self, value, method, axis, inplace, limit, downcast)\u001b[0m\n\u001b[1;32m   4814\u001b[0m         \u001b[0mdowncast\u001b[0m\u001b[0;34m=\u001b[0m\u001b[0;32mNone\u001b[0m\u001b[0;34m,\u001b[0m\u001b[0;34m\u001b[0m\u001b[0;34m\u001b[0m\u001b[0m\n\u001b[1;32m   4815\u001b[0m     ) -> Series | None:\n\u001b[0;32m-> 4816\u001b[0;31m         return super().fillna(\n\u001b[0m\u001b[1;32m   4817\u001b[0m             \u001b[0mvalue\u001b[0m\u001b[0;34m=\u001b[0m\u001b[0mvalue\u001b[0m\u001b[0;34m,\u001b[0m\u001b[0;34m\u001b[0m\u001b[0;34m\u001b[0m\u001b[0m\n\u001b[1;32m   4818\u001b[0m             \u001b[0mmethod\u001b[0m\u001b[0;34m=\u001b[0m\u001b[0mmethod\u001b[0m\u001b[0;34m,\u001b[0m\u001b[0;34m\u001b[0m\u001b[0;34m\u001b[0m\u001b[0m\n",
      "\u001b[0;32m~/opt/anaconda3/lib/python3.9/site-packages/pandas/core/generic.py\u001b[0m in \u001b[0;36mfillna\u001b[0;34m(self, value, method, axis, inplace, limit, downcast)\u001b[0m\n\u001b[1;32m   6311\u001b[0m         \"\"\"\n\u001b[1;32m   6312\u001b[0m         \u001b[0minplace\u001b[0m \u001b[0;34m=\u001b[0m \u001b[0mvalidate_bool_kwarg\u001b[0m\u001b[0;34m(\u001b[0m\u001b[0minplace\u001b[0m\u001b[0;34m,\u001b[0m \u001b[0;34m\"inplace\"\u001b[0m\u001b[0;34m)\u001b[0m\u001b[0;34m\u001b[0m\u001b[0;34m\u001b[0m\u001b[0m\n\u001b[0;32m-> 6313\u001b[0;31m         \u001b[0mvalue\u001b[0m\u001b[0;34m,\u001b[0m \u001b[0mmethod\u001b[0m \u001b[0;34m=\u001b[0m \u001b[0mvalidate_fillna_kwargs\u001b[0m\u001b[0;34m(\u001b[0m\u001b[0mvalue\u001b[0m\u001b[0;34m,\u001b[0m \u001b[0mmethod\u001b[0m\u001b[0;34m)\u001b[0m\u001b[0;34m\u001b[0m\u001b[0;34m\u001b[0m\u001b[0m\n\u001b[0m\u001b[1;32m   6314\u001b[0m \u001b[0;34m\u001b[0m\u001b[0m\n\u001b[1;32m   6315\u001b[0m         \u001b[0mself\u001b[0m\u001b[0;34m.\u001b[0m\u001b[0m_consolidate_inplace\u001b[0m\u001b[0;34m(\u001b[0m\u001b[0;34m)\u001b[0m\u001b[0;34m\u001b[0m\u001b[0;34m\u001b[0m\u001b[0m\n",
      "\u001b[0;32m~/opt/anaconda3/lib/python3.9/site-packages/pandas/util/_validators.py\u001b[0m in \u001b[0;36mvalidate_fillna_kwargs\u001b[0;34m(value, method, validate_scalar_dict_value)\u001b[0m\n\u001b[1;32m    380\u001b[0m \u001b[0;34m\u001b[0m\u001b[0m\n\u001b[1;32m    381\u001b[0m     \u001b[0;32melif\u001b[0m \u001b[0mvalue\u001b[0m \u001b[0;32mis\u001b[0m \u001b[0;32mnot\u001b[0m \u001b[0;32mNone\u001b[0m \u001b[0;32mand\u001b[0m \u001b[0mmethod\u001b[0m \u001b[0;32mis\u001b[0m \u001b[0;32mnot\u001b[0m \u001b[0;32mNone\u001b[0m\u001b[0;34m:\u001b[0m\u001b[0;34m\u001b[0m\u001b[0;34m\u001b[0m\u001b[0m\n\u001b[0;32m--> 382\u001b[0;31m         \u001b[0;32mraise\u001b[0m \u001b[0mValueError\u001b[0m\u001b[0;34m(\u001b[0m\u001b[0;34m\"Cannot specify both 'value' and 'method'.\"\u001b[0m\u001b[0;34m)\u001b[0m\u001b[0;34m\u001b[0m\u001b[0;34m\u001b[0m\u001b[0m\n\u001b[0m\u001b[1;32m    383\u001b[0m \u001b[0;34m\u001b[0m\u001b[0m\n\u001b[1;32m    384\u001b[0m     \u001b[0;32mreturn\u001b[0m \u001b[0mvalue\u001b[0m\u001b[0;34m,\u001b[0m \u001b[0mmethod\u001b[0m\u001b[0;34m\u001b[0m\u001b[0;34m\u001b[0m\u001b[0m\n",
      "\u001b[0;31mValueError\u001b[0m: Cannot specify both 'value' and 'method'."
     ]
    }
   ],
   "source": [
    "df['EMA10'].fillna('NA', 0)"
   ]
  },
  {
   "cell_type": "code",
   "execution_count": null,
   "id": "f2b83eaf",
   "metadata": {},
   "outputs": [],
   "source": [
    "df['EMA10'][is.na(myDataframe)] = 0"
   ]
  },
  {
   "cell_type": "code",
   "execution_count": 88,
   "id": "211b0fca",
   "metadata": {},
   "outputs": [
    {
     "data": {
      "text/plain": [
       "Date\n",
       "1999-12-31           N/A\n",
       "2000-01-03           N/A\n",
       "2000-01-04           N/A\n",
       "2000-01-05           N/A\n",
       "2000-01-06           N/A\n",
       "                 ...    \n",
       "2020-12-23     358.90158\n",
       "2020-12-24    359.293647\n",
       "2020-12-28    359.945383\n",
       "2020-12-29    360.468523\n",
       "2020-12-30      360.9915\n",
       "Name: EMA20, Length: 5284, dtype: object"
      ]
     },
     "execution_count": 88,
     "metadata": {},
     "output_type": "execute_result"
    }
   ],
   "source": [
    " df['EMA20']"
   ]
  },
  {
   "cell_type": "code",
   "execution_count": 4,
   "id": "e91da72f",
   "metadata": {},
   "outputs": [
    {
     "data": {
      "text/plain": [
       "2001-07-31    3.61\n",
       "2001-08-01    3.60\n",
       "2001-08-02    3.60\n",
       "2001-08-03    3.58\n",
       "2001-08-06    3.58\n",
       "              ... \n",
       "2020-12-25     NaN\n",
       "2020-12-28    0.09\n",
       "2020-12-29    0.08\n",
       "2020-12-30    0.06\n",
       "2020-12-31    0.08\n",
       "Length: 5068, dtype: float64"
      ]
     },
     "execution_count": 4,
     "metadata": {},
     "output_type": "execute_result"
    }
   ],
   "source": [
    "# Fred API key: ab766afb0df13dba8492403a7865f852\n",
    "fred = Fred(api_key='ab766afb0df13dba8492403a7865f852')\n",
    "T1 = fred.get_series('DTB4WK', observation_start=start_date, observation_end=end_date)\n",
    "T1"
   ]
  },
  {
   "cell_type": "code",
   "execution_count": 5,
   "id": "0d10f73d",
   "metadata": {},
   "outputs": [
    {
     "data": {
      "text/plain": [
       "2000-01-03    5.27\n",
       "2000-01-04    5.27\n",
       "2000-01-05    5.28\n",
       "2000-01-06    5.25\n",
       "2000-01-07    5.22\n",
       "              ... \n",
       "2020-12-25     NaN\n",
       "2020-12-28    0.11\n",
       "2020-12-29    0.10\n",
       "2020-12-30    0.08\n",
       "2020-12-31    0.09\n",
       "Length: 5479, dtype: float64"
      ]
     },
     "execution_count": 5,
     "metadata": {},
     "output_type": "execute_result"
    }
   ],
   "source": [
    "T3 = fred.get_series('DTB3', observation_start=start_date, observation_end=end_date)\n",
    "T3"
   ]
  },
  {
   "cell_type": "code",
   "execution_count": 6,
   "id": "b4c4640a",
   "metadata": {},
   "outputs": [
    {
     "data": {
      "text/plain": [
       "2000-01-03    5.55\n",
       "2000-01-04    5.50\n",
       "2000-01-05    5.49\n",
       "2000-01-06    5.44\n",
       "2000-01-07    5.42\n",
       "              ... \n",
       "2020-12-25     NaN\n",
       "2020-12-28    0.11\n",
       "2020-12-29    0.12\n",
       "2020-12-30    0.09\n",
       "2020-12-31    0.09\n",
       "Length: 5479, dtype: float64"
      ]
     },
     "execution_count": 6,
     "metadata": {},
     "output_type": "execute_result"
    }
   ],
   "source": [
    "T6 = fred.get_series('DTB6', observation_start=start_date, observation_end=end_date)\n",
    "T6"
   ]
  },
  {
   "cell_type": "code",
   "execution_count": 7,
   "id": "b8b27182",
   "metadata": {},
   "outputs": [
    {
     "data": {
      "text/plain": [
       "2000-01-03    6.50\n",
       "2000-01-04    6.40\n",
       "2000-01-05    6.51\n",
       "2000-01-06    6.46\n",
       "2000-01-07    6.42\n",
       "              ... \n",
       "2020-12-25     NaN\n",
       "2020-12-28    0.38\n",
       "2020-12-29    0.37\n",
       "2020-12-30    0.37\n",
       "2020-12-31    0.36\n",
       "Length: 5479, dtype: float64"
      ]
     },
     "execution_count": 7,
     "metadata": {},
     "output_type": "execute_result"
    }
   ],
   "source": [
    "T60 = fred.get_series('DGS5', observation_start=start_date, observation_end=end_date)\n",
    "T60"
   ]
  },
  {
   "cell_type": "code",
   "execution_count": 8,
   "id": "298c04ed",
   "metadata": {},
   "outputs": [
    {
     "data": {
      "text/plain": [
       "2000-01-03    6.58\n",
       "2000-01-04    6.49\n",
       "2000-01-05    6.62\n",
       "2000-01-06    6.57\n",
       "2000-01-07    6.52\n",
       "              ... \n",
       "2020-12-25     NaN\n",
       "2020-12-28    0.94\n",
       "2020-12-29    0.94\n",
       "2020-12-30    0.93\n",
       "2020-12-31    0.93\n",
       "Length: 5479, dtype: float64"
      ]
     },
     "execution_count": 8,
     "metadata": {},
     "output_type": "execute_result"
    }
   ],
   "source": [
    "T120 = fred.get_series('DGS10', observation_start=start_date, observation_end=end_date)\n",
    "T120"
   ]
  },
  {
   "cell_type": "code",
   "execution_count": 9,
   "id": "9b77c1f1",
   "metadata": {},
   "outputs": [
    {
     "data": {
      "text/plain": [
       "2000-01-03    5.70\n",
       "2000-01-04    5.72\n",
       "2000-01-05    5.70\n",
       "2000-01-06    5.70\n",
       "2000-01-07    5.69\n",
       "              ... \n",
       "2013-06-24    0.16\n",
       "2013-06-25    0.16\n",
       "2013-06-26    0.16\n",
       "2013-06-27    0.16\n",
       "2013-06-28    0.17\n",
       "Length: 3520, dtype: float64"
      ]
     },
     "execution_count": 9,
     "metadata": {},
     "output_type": "execute_result"
    }
   ],
   "source": [
    "CD1 = fred.get_series('DCD1M', observation_start=start_date, observation_end=end_date)\n",
    "CD1"
   ]
  },
  {
   "cell_type": "code",
   "execution_count": 56,
   "id": "0ac25a65",
   "metadata": {},
   "outputs": [
    {
     "data": {
      "text/plain": [
       "2000"
      ]
     },
     "execution_count": 56,
     "metadata": {},
     "output_type": "execute_result"
    }
   ],
   "source": [
    "CD1.index[0].year"
   ]
  },
  {
   "cell_type": "code",
   "execution_count": 10,
   "id": "43c9675e",
   "metadata": {},
   "outputs": [
    {
     "data": {
      "text/plain": [
       "2000-01-03    5.89\n",
       "2000-01-04    5.93\n",
       "2000-01-05    5.94\n",
       "2000-01-06    5.94\n",
       "2000-01-07    5.96\n",
       "              ... \n",
       "2013-06-24    0.19\n",
       "2013-06-25    0.20\n",
       "2013-06-26    0.20\n",
       "2013-06-27    0.20\n",
       "2013-06-28    0.22\n",
       "Length: 3520, dtype: float64"
      ]
     },
     "execution_count": 10,
     "metadata": {},
     "output_type": "execute_result"
    }
   ],
   "source": [
    "CD3 = fred.get_series('DCD90', observation_start=start_date, observation_end=end_date)\n",
    "CD3"
   ]
  },
  {
   "cell_type": "code",
   "execution_count": 11,
   "id": "ffcdcca6",
   "metadata": {},
   "outputs": [
    {
     "data": {
      "text/plain": [
       "2000-01-03    6.05\n",
       "2000-01-04    6.14\n",
       "2000-01-05    6.13\n",
       "2000-01-06    6.15\n",
       "2000-01-07    6.17\n",
       "              ... \n",
       "2013-06-24    0.26\n",
       "2013-06-25    0.27\n",
       "2013-06-26    0.27\n",
       "2013-06-27    0.27\n",
       "2013-06-28    0.27\n",
       "Length: 3520, dtype: float64"
      ]
     },
     "execution_count": 11,
     "metadata": {},
     "output_type": "execute_result"
    }
   ],
   "source": [
    "CD6 = fred.get_series('DCD6M', observation_start=start_date, observation_end=end_date)\n",
    "CD6"
   ]
  },
  {
   "cell_type": "code",
   "execution_count": 58,
   "id": "728a4706",
   "metadata": {},
   "outputs": [
    {
     "data": {
      "text/html": [
       "<div>\n",
       "<style scoped>\n",
       "    .dataframe tbody tr th:only-of-type {\n",
       "        vertical-align: middle;\n",
       "    }\n",
       "\n",
       "    .dataframe tbody tr th {\n",
       "        vertical-align: top;\n",
       "    }\n",
       "\n",
       "    .dataframe thead th {\n",
       "        text-align: right;\n",
       "    }\n",
       "</style>\n",
       "<table border=\"1\" class=\"dataframe\">\n",
       "  <thead>\n",
       "    <tr style=\"text-align: right;\">\n",
       "      <th></th>\n",
       "      <th>Series Description</th>\n",
       "      <th>Market yield on U.S. Treasury securities at 1-month   constant maturity, quoted on investment basis</th>\n",
       "      <th>Market yield on U.S. Treasury securities at 3-month   constant maturity, quoted on investment basis</th>\n",
       "      <th>Market yield on U.S. Treasury securities at 6-month   constant maturity, quoted on investment basis</th>\n",
       "      <th>Market yield on U.S. Treasury securities at 1-year   constant maturity, quoted on investment basis</th>\n",
       "      <th>Market yield on U.S. Treasury securities at 2-year   constant maturity, quoted on investment basis</th>\n",
       "      <th>Market yield on U.S. Treasury securities at 3-year   constant maturity, quoted on investment basis</th>\n",
       "      <th>Market yield on U.S. Treasury securities at 5-year   constant maturity, quoted on investment basis</th>\n",
       "      <th>Market yield on U.S. Treasury securities at 7-year   constant maturity, quoted on investment basis</th>\n",
       "      <th>Market yield on U.S. Treasury securities at 10-year   constant maturity, quoted on investment basis</th>\n",
       "      <th>Market yield on U.S. Treasury securities at 20-year   constant maturity, quoted on investment basis</th>\n",
       "      <th>Market yield on U.S. Treasury securities at 30-year   constant maturity, quoted on investment basis</th>\n",
       "    </tr>\n",
       "  </thead>\n",
       "  <tbody>\n",
       "    <tr>\n",
       "      <th>5</th>\n",
       "      <td>1962-01-02</td>\n",
       "      <td>NaN</td>\n",
       "      <td>NaN</td>\n",
       "      <td>NaN</td>\n",
       "      <td>3.22</td>\n",
       "      <td>NaN</td>\n",
       "      <td>3.70</td>\n",
       "      <td>3.88</td>\n",
       "      <td>NaN</td>\n",
       "      <td>4.06</td>\n",
       "      <td>4.07</td>\n",
       "      <td>NaN</td>\n",
       "    </tr>\n",
       "    <tr>\n",
       "      <th>6</th>\n",
       "      <td>1962-01-03</td>\n",
       "      <td>NaN</td>\n",
       "      <td>NaN</td>\n",
       "      <td>NaN</td>\n",
       "      <td>3.24</td>\n",
       "      <td>NaN</td>\n",
       "      <td>3.70</td>\n",
       "      <td>3.87</td>\n",
       "      <td>NaN</td>\n",
       "      <td>4.03</td>\n",
       "      <td>4.07</td>\n",
       "      <td>NaN</td>\n",
       "    </tr>\n",
       "    <tr>\n",
       "      <th>7</th>\n",
       "      <td>1962-01-04</td>\n",
       "      <td>NaN</td>\n",
       "      <td>NaN</td>\n",
       "      <td>NaN</td>\n",
       "      <td>3.24</td>\n",
       "      <td>NaN</td>\n",
       "      <td>3.69</td>\n",
       "      <td>3.86</td>\n",
       "      <td>NaN</td>\n",
       "      <td>3.99</td>\n",
       "      <td>4.06</td>\n",
       "      <td>NaN</td>\n",
       "    </tr>\n",
       "    <tr>\n",
       "      <th>8</th>\n",
       "      <td>1962-01-05</td>\n",
       "      <td>NaN</td>\n",
       "      <td>NaN</td>\n",
       "      <td>NaN</td>\n",
       "      <td>3.26</td>\n",
       "      <td>NaN</td>\n",
       "      <td>3.71</td>\n",
       "      <td>3.89</td>\n",
       "      <td>NaN</td>\n",
       "      <td>4.02</td>\n",
       "      <td>4.07</td>\n",
       "      <td>NaN</td>\n",
       "    </tr>\n",
       "    <tr>\n",
       "      <th>9</th>\n",
       "      <td>1962-01-08</td>\n",
       "      <td>NaN</td>\n",
       "      <td>NaN</td>\n",
       "      <td>NaN</td>\n",
       "      <td>3.31</td>\n",
       "      <td>NaN</td>\n",
       "      <td>3.71</td>\n",
       "      <td>3.91</td>\n",
       "      <td>NaN</td>\n",
       "      <td>4.03</td>\n",
       "      <td>4.08</td>\n",
       "      <td>NaN</td>\n",
       "    </tr>\n",
       "    <tr>\n",
       "      <th>...</th>\n",
       "      <td>...</td>\n",
       "      <td>...</td>\n",
       "      <td>...</td>\n",
       "      <td>...</td>\n",
       "      <td>...</td>\n",
       "      <td>...</td>\n",
       "      <td>...</td>\n",
       "      <td>...</td>\n",
       "      <td>...</td>\n",
       "      <td>...</td>\n",
       "      <td>...</td>\n",
       "      <td>...</td>\n",
       "    </tr>\n",
       "    <tr>\n",
       "      <th>15746</th>\n",
       "      <td>2022-05-04</td>\n",
       "      <td>0.49</td>\n",
       "      <td>0.89</td>\n",
       "      <td>1.44</td>\n",
       "      <td>2.07</td>\n",
       "      <td>2.66</td>\n",
       "      <td>2.85</td>\n",
       "      <td>2.93</td>\n",
       "      <td>2.97</td>\n",
       "      <td>2.93</td>\n",
       "      <td>3.21</td>\n",
       "      <td>3.01</td>\n",
       "    </tr>\n",
       "    <tr>\n",
       "      <th>15747</th>\n",
       "      <td>2022-05-05</td>\n",
       "      <td>0.49</td>\n",
       "      <td>0.85</td>\n",
       "      <td>1.37</td>\n",
       "      <td>2.08</td>\n",
       "      <td>2.71</td>\n",
       "      <td>2.91</td>\n",
       "      <td>3.01</td>\n",
       "      <td>3.07</td>\n",
       "      <td>3.05</td>\n",
       "      <td>3.35</td>\n",
       "      <td>3.15</td>\n",
       "    </tr>\n",
       "    <tr>\n",
       "      <th>15748</th>\n",
       "      <td>2022-05-06</td>\n",
       "      <td>0.48</td>\n",
       "      <td>0.85</td>\n",
       "      <td>1.41</td>\n",
       "      <td>2.08</td>\n",
       "      <td>2.72</td>\n",
       "      <td>2.94</td>\n",
       "      <td>3.06</td>\n",
       "      <td>3.13</td>\n",
       "      <td>3.12</td>\n",
       "      <td>3.43</td>\n",
       "      <td>3.23</td>\n",
       "    </tr>\n",
       "    <tr>\n",
       "      <th>15749</th>\n",
       "      <td>2022-05-09</td>\n",
       "      <td>0.51</td>\n",
       "      <td>0.92</td>\n",
       "      <td>1.43</td>\n",
       "      <td>1.99</td>\n",
       "      <td>2.61</td>\n",
       "      <td>2.81</td>\n",
       "      <td>2.95</td>\n",
       "      <td>3.04</td>\n",
       "      <td>3.05</td>\n",
       "      <td>3.38</td>\n",
       "      <td>3.19</td>\n",
       "    </tr>\n",
       "    <tr>\n",
       "      <th>15750</th>\n",
       "      <td>2022-05-10</td>\n",
       "      <td>0.57</td>\n",
       "      <td>0.89</td>\n",
       "      <td>1.44</td>\n",
       "      <td>2.01</td>\n",
       "      <td>2.62</td>\n",
       "      <td>2.81</td>\n",
       "      <td>2.91</td>\n",
       "      <td>2.99</td>\n",
       "      <td>2.99</td>\n",
       "      <td>3.31</td>\n",
       "      <td>3.12</td>\n",
       "    </tr>\n",
       "  </tbody>\n",
       "</table>\n",
       "<p>15746 rows × 12 columns</p>\n",
       "</div>"
      ],
      "text/plain": [
       "      Series Description  \\\n",
       "5             1962-01-02   \n",
       "6             1962-01-03   \n",
       "7             1962-01-04   \n",
       "8             1962-01-05   \n",
       "9             1962-01-08   \n",
       "...                  ...   \n",
       "15746         2022-05-04   \n",
       "15747         2022-05-05   \n",
       "15748         2022-05-06   \n",
       "15749         2022-05-09   \n",
       "15750         2022-05-10   \n",
       "\n",
       "      Market yield on U.S. Treasury securities at 1-month   constant maturity, quoted on investment basis  \\\n",
       "5                                                    NaN                                                    \n",
       "6                                                    NaN                                                    \n",
       "7                                                    NaN                                                    \n",
       "8                                                    NaN                                                    \n",
       "9                                                    NaN                                                    \n",
       "...                                                  ...                                                    \n",
       "15746                                               0.49                                                    \n",
       "15747                                               0.49                                                    \n",
       "15748                                               0.48                                                    \n",
       "15749                                               0.51                                                    \n",
       "15750                                               0.57                                                    \n",
       "\n",
       "      Market yield on U.S. Treasury securities at 3-month   constant maturity, quoted on investment basis  \\\n",
       "5                                                    NaN                                                    \n",
       "6                                                    NaN                                                    \n",
       "7                                                    NaN                                                    \n",
       "8                                                    NaN                                                    \n",
       "9                                                    NaN                                                    \n",
       "...                                                  ...                                                    \n",
       "15746                                               0.89                                                    \n",
       "15747                                               0.85                                                    \n",
       "15748                                               0.85                                                    \n",
       "15749                                               0.92                                                    \n",
       "15750                                               0.89                                                    \n",
       "\n",
       "      Market yield on U.S. Treasury securities at 6-month   constant maturity, quoted on investment basis  \\\n",
       "5                                                    NaN                                                    \n",
       "6                                                    NaN                                                    \n",
       "7                                                    NaN                                                    \n",
       "8                                                    NaN                                                    \n",
       "9                                                    NaN                                                    \n",
       "...                                                  ...                                                    \n",
       "15746                                               1.44                                                    \n",
       "15747                                               1.37                                                    \n",
       "15748                                               1.41                                                    \n",
       "15749                                               1.43                                                    \n",
       "15750                                               1.44                                                    \n",
       "\n",
       "      Market yield on U.S. Treasury securities at 1-year   constant maturity, quoted on investment basis  \\\n",
       "5                                                   3.22                                                   \n",
       "6                                                   3.24                                                   \n",
       "7                                                   3.24                                                   \n",
       "8                                                   3.26                                                   \n",
       "9                                                   3.31                                                   \n",
       "...                                                  ...                                                   \n",
       "15746                                               2.07                                                   \n",
       "15747                                               2.08                                                   \n",
       "15748                                               2.08                                                   \n",
       "15749                                               1.99                                                   \n",
       "15750                                               2.01                                                   \n",
       "\n",
       "      Market yield on U.S. Treasury securities at 2-year   constant maturity, quoted on investment basis  \\\n",
       "5                                                    NaN                                                   \n",
       "6                                                    NaN                                                   \n",
       "7                                                    NaN                                                   \n",
       "8                                                    NaN                                                   \n",
       "9                                                    NaN                                                   \n",
       "...                                                  ...                                                   \n",
       "15746                                               2.66                                                   \n",
       "15747                                               2.71                                                   \n",
       "15748                                               2.72                                                   \n",
       "15749                                               2.61                                                   \n",
       "15750                                               2.62                                                   \n",
       "\n",
       "      Market yield on U.S. Treasury securities at 3-year   constant maturity, quoted on investment basis  \\\n",
       "5                                                   3.70                                                   \n",
       "6                                                   3.70                                                   \n",
       "7                                                   3.69                                                   \n",
       "8                                                   3.71                                                   \n",
       "9                                                   3.71                                                   \n",
       "...                                                  ...                                                   \n",
       "15746                                               2.85                                                   \n",
       "15747                                               2.91                                                   \n",
       "15748                                               2.94                                                   \n",
       "15749                                               2.81                                                   \n",
       "15750                                               2.81                                                   \n",
       "\n",
       "      Market yield on U.S. Treasury securities at 5-year   constant maturity, quoted on investment basis  \\\n",
       "5                                                   3.88                                                   \n",
       "6                                                   3.87                                                   \n",
       "7                                                   3.86                                                   \n",
       "8                                                   3.89                                                   \n",
       "9                                                   3.91                                                   \n",
       "...                                                  ...                                                   \n",
       "15746                                               2.93                                                   \n",
       "15747                                               3.01                                                   \n",
       "15748                                               3.06                                                   \n",
       "15749                                               2.95                                                   \n",
       "15750                                               2.91                                                   \n",
       "\n",
       "      Market yield on U.S. Treasury securities at 7-year   constant maturity, quoted on investment basis  \\\n",
       "5                                                    NaN                                                   \n",
       "6                                                    NaN                                                   \n",
       "7                                                    NaN                                                   \n",
       "8                                                    NaN                                                   \n",
       "9                                                    NaN                                                   \n",
       "...                                                  ...                                                   \n",
       "15746                                               2.97                                                   \n",
       "15747                                               3.07                                                   \n",
       "15748                                               3.13                                                   \n",
       "15749                                               3.04                                                   \n",
       "15750                                               2.99                                                   \n",
       "\n",
       "      Market yield on U.S. Treasury securities at 10-year   constant maturity, quoted on investment basis  \\\n",
       "5                                                   4.06                                                    \n",
       "6                                                   4.03                                                    \n",
       "7                                                   3.99                                                    \n",
       "8                                                   4.02                                                    \n",
       "9                                                   4.03                                                    \n",
       "...                                                  ...                                                    \n",
       "15746                                               2.93                                                    \n",
       "15747                                               3.05                                                    \n",
       "15748                                               3.12                                                    \n",
       "15749                                               3.05                                                    \n",
       "15750                                               2.99                                                    \n",
       "\n",
       "      Market yield on U.S. Treasury securities at 20-year   constant maturity, quoted on investment basis  \\\n",
       "5                                                   4.07                                                    \n",
       "6                                                   4.07                                                    \n",
       "7                                                   4.06                                                    \n",
       "8                                                   4.07                                                    \n",
       "9                                                   4.08                                                    \n",
       "...                                                  ...                                                    \n",
       "15746                                               3.21                                                    \n",
       "15747                                               3.35                                                    \n",
       "15748                                               3.43                                                    \n",
       "15749                                               3.38                                                    \n",
       "15750                                               3.31                                                    \n",
       "\n",
       "      Market yield on U.S. Treasury securities at 30-year   constant maturity, quoted on investment basis  \n",
       "5                                                    NaN                                                   \n",
       "6                                                    NaN                                                   \n",
       "7                                                    NaN                                                   \n",
       "8                                                    NaN                                                   \n",
       "9                                                    NaN                                                   \n",
       "...                                                  ...                                                   \n",
       "15746                                               3.01                                                   \n",
       "15747                                               3.15                                                   \n",
       "15748                                               3.23                                                   \n",
       "15749                                               3.19                                                   \n",
       "15750                                               3.12                                                   \n",
       "\n",
       "[15746 rows x 12 columns]"
      ]
     },
     "execution_count": 58,
     "metadata": {},
     "output_type": "execute_result"
    }
   ],
   "source": [
    "data = pd.read_csv(\"https://www.federalreserve.gov/datadownload/Output.aspx?rel=H15&series=bf17364827e38702b42a58cf8eaa3f78&lastobs=&from=&to=&filetype=csv&label=include&layout=seriescolumn&type=package\")\n",
    "data = data.iloc[5:,:]\n",
    "data"
   ]
  },
  {
   "cell_type": "code",
   "execution_count": 67,
   "id": "29ed31e1",
   "metadata": {},
   "outputs": [],
   "source": [
    "data['Series Description'] = pd.to_datetime(data['Series Description'])"
   ]
  },
  {
   "cell_type": "code",
   "execution_count": 69,
   "id": "0d3a39e9",
   "metadata": {},
   "outputs": [
    {
     "data": {
      "text/plain": [
       "2000-01-03     NaN\n",
       "2000-01-04   -0.05\n",
       "2000-01-05    0.01\n",
       "2000-01-06   -0.03\n",
       "2000-01-07   -0.03\n",
       "              ... \n",
       "2020-12-24    0.00\n",
       "2020-12-28    0.02\n",
       "2020-12-29   -0.01\n",
       "2020-12-30   -0.02\n",
       "2020-12-31    0.01\n",
       "Name: Market yield on U.S. Treasury securities at 3-month   constant maturity, quoted on investment basis, Length: 5253, dtype: float64"
      ]
     },
     "execution_count": 69,
     "metadata": {},
     "output_type": "execute_result"
    }
   ],
   "source": [
    "CTB3M = pd.Series(data['Market yield on U.S. Treasury securities at 3-month   constant maturity, quoted on investment basis'])\n",
    "CTB3M.reset_index(drop=True, inplace=True)\n",
    "CTB3M.index = data['Series Description'].values\n",
    "CTB3M = CTB3M.dropna()\n",
    "CTB3M = CTB3M[CTB3M.values != 'ND'].astype(float)\n",
    "CTB3M = CTB3M[(CTB3M.index >= start_date) & (CTB3M.index <= end_date)]\n",
    "CTB3M = CTB3M - CTB3M.shift()\n",
    "CTB3M"
   ]
  },
  {
   "cell_type": "code",
   "execution_count": 14,
   "id": "cdf13041",
   "metadata": {},
   "outputs": [
    {
     "data": {
      "text/plain": [
       "2000-01-03     NaN\n",
       "2000-01-04   -0.06\n",
       "2000-01-05   -0.01\n",
       "2000-01-06   -0.05\n",
       "2000-01-07   -0.03\n",
       "              ... \n",
       "2020-12-24    0.00\n",
       "2020-12-28    0.02\n",
       "2020-12-29    0.01\n",
       "2020-12-30   -0.03\n",
       "2020-12-31    0.00\n",
       "Name: Market yield on U.S. Treasury securities at 6-month   constant maturity, quoted on investment basis, Length: 5253, dtype: float64"
      ]
     },
     "execution_count": 14,
     "metadata": {},
     "output_type": "execute_result"
    }
   ],
   "source": [
    "CTB6M = pd.Series(data['Market yield on U.S. Treasury securities at 6-month   constant maturity, quoted on investment basis'])\n",
    "CTB6M.reset_index(drop=True, inplace=True)\n",
    "CTB6M.index = data['Series Description'].values\n",
    "CTB6M = CTB6M.dropna()\n",
    "CTB6M = CTB6M[CTB6M.values != 'ND'].astype(float)\n",
    "CTB6M = CTB6M[(CTB6M.index >= start_date) & (CTB6M.index <= end_date)]\n",
    "CTB6M = CTB6M - CTB6M.shift()\n",
    "CTB6M"
   ]
  },
  {
   "cell_type": "code",
   "execution_count": 15,
   "id": "60918ca4",
   "metadata": {},
   "outputs": [
    {
     "data": {
      "text/plain": [
       "2000-01-03     NaN\n",
       "2000-01-04   -0.09\n",
       "2000-01-05    0.05\n",
       "2000-01-06   -0.02\n",
       "2000-01-07   -0.03\n",
       "              ... \n",
       "2020-12-24    0.01\n",
       "2020-12-28    0.01\n",
       "2020-12-29    0.00\n",
       "2020-12-30    0.01\n",
       "2020-12-31   -0.02\n",
       "Name: Market yield on U.S. Treasury securities at 1-year   constant maturity, quoted on investment basis, Length: 5253, dtype: float64"
      ]
     },
     "execution_count": 15,
     "metadata": {},
     "output_type": "execute_result"
    }
   ],
   "source": [
    "CTB1Y = pd.Series(data['Market yield on U.S. Treasury securities at 1-year   constant maturity, quoted on investment basis'])\n",
    "CTB1Y.reset_index(drop=True, inplace=True)\n",
    "CTB1Y.index = data['Series Description'].values\n",
    "CTB1Y = CTB1Y.dropna()\n",
    "CTB1Y = CTB1Y[CTB1Y.values != 'ND'].astype(float)\n",
    "CTB1Y = CTB1Y[(CTB1Y.index >= start_date) & (CTB1Y.index <= end_date)]\n",
    "CTB1Y = CTB1Y - CTB1Y.shift()\n",
    "CTB1Y"
   ]
  },
  {
   "cell_type": "code",
   "execution_count": 16,
   "id": "ffb01814",
   "metadata": {},
   "outputs": [
    {
     "data": {
      "text/plain": [
       "2000-01-03     NaN\n",
       "2000-01-04   -0.10\n",
       "2000-01-05    0.11\n",
       "2000-01-06   -0.05\n",
       "2000-01-07   -0.04\n",
       "              ... \n",
       "2020-12-24   -0.01\n",
       "2020-12-28    0.01\n",
       "2020-12-29   -0.01\n",
       "2020-12-30    0.00\n",
       "2020-12-31   -0.01\n",
       "Name: Market yield on U.S. Treasury securities at 5-year   constant maturity, quoted on investment basis, Length: 5253, dtype: float64"
      ]
     },
     "execution_count": 16,
     "metadata": {},
     "output_type": "execute_result"
    }
   ],
   "source": [
    "CTB5Y = pd.Series(data['Market yield on U.S. Treasury securities at 5-year   constant maturity, quoted on investment basis'])\n",
    "CTB5Y.reset_index(drop=True, inplace=True)\n",
    "CTB5Y.index = data['Series Description'].values\n",
    "CTB5Y = CTB5Y.dropna()\n",
    "CTB5Y = CTB5Y[CTB5Y.values != 'ND'].astype(float)\n",
    "CTB5Y = CTB5Y[(CTB5Y.index >= start_date) & (CTB5Y.index <= end_date)]\n",
    "CTB5Y = CTB5Y - CTB5Y.shift()\n",
    "CTB5Y"
   ]
  },
  {
   "cell_type": "code",
   "execution_count": 17,
   "id": "c294f52b",
   "metadata": {},
   "outputs": [
    {
     "data": {
      "text/plain": [
       "2000-01-03     NaN\n",
       "2000-01-04   -0.09\n",
       "2000-01-05    0.13\n",
       "2000-01-06   -0.05\n",
       "2000-01-07   -0.05\n",
       "              ... \n",
       "2020-12-24   -0.02\n",
       "2020-12-28    0.00\n",
       "2020-12-29    0.00\n",
       "2020-12-30   -0.01\n",
       "2020-12-31    0.00\n",
       "Name: Market yield on U.S. Treasury securities at 10-year   constant maturity, quoted on investment basis, Length: 5253, dtype: float64"
      ]
     },
     "execution_count": 17,
     "metadata": {},
     "output_type": "execute_result"
    }
   ],
   "source": [
    "CTB10Y = pd.Series(data['Market yield on U.S. Treasury securities at 10-year   constant maturity, quoted on investment basis'])\n",
    "CTB10Y.reset_index(drop=True, inplace=True)\n",
    "CTB10Y.index = data['Series Description'].values\n",
    "CTB10Y = CTB10Y.dropna()\n",
    "CTB10Y = CTB10Y[CTB10Y.values != 'ND'].astype(float)\n",
    "CTB10Y = CTB10Y[(CTB10Y.index >= start_date) & (CTB10Y.index <= end_date)]\n",
    "CTB10Y = CTB10Y - CTB10Y.shift()\n",
    "CTB10Y"
   ]
  },
  {
   "cell_type": "code",
   "execution_count": 18,
   "id": "abb13d05",
   "metadata": {},
   "outputs": [
    {
     "data": {
      "text/plain": [
       "2000-01-03    7.75\n",
       "2000-01-04    7.69\n",
       "2000-01-05    7.78\n",
       "2000-01-06    7.72\n",
       "2000-01-07    7.69\n",
       "              ... \n",
       "2020-12-25     NaN\n",
       "2020-12-28    2.25\n",
       "2020-12-29    2.25\n",
       "2020-12-30    2.22\n",
       "2020-12-31    2.23\n",
       "Length: 5479, dtype: float64"
      ]
     },
     "execution_count": 18,
     "metadata": {},
     "output_type": "execute_result"
    }
   ],
   "source": [
    "AAA = fred.get_series('DAAA', observation_start=start_date, observation_end=end_date)\n",
    "AAA"
   ]
  },
  {
   "cell_type": "code",
   "execution_count": 19,
   "id": "59dbee36",
   "metadata": {},
   "outputs": [
    {
     "data": {
      "text/plain": [
       "2000-01-03    8.27\n",
       "2000-01-04    8.21\n",
       "2000-01-05    8.29\n",
       "2000-01-06    8.24\n",
       "2000-01-07    8.22\n",
       "              ... \n",
       "2020-12-25     NaN\n",
       "2020-12-28    3.16\n",
       "2020-12-29    3.16\n",
       "2020-12-30    3.13\n",
       "2020-12-31    3.11\n",
       "Length: 5479, dtype: float64"
      ]
     },
     "execution_count": 19,
     "metadata": {},
     "output_type": "execute_result"
    }
   ],
   "source": [
    "BAA = fred.get_series('DBAA', observation_start=start_date, observation_end=end_date)\n",
    "BAA"
   ]
  },
  {
   "cell_type": "code",
   "execution_count": 20,
   "id": "d5b7f355",
   "metadata": {},
   "outputs": [],
   "source": [
    "def generate_feature(f1, f2):\n",
    "    '''\n",
    "    compare and choose latest start date and earliest end date\n",
    "    '''\n",
    "    start_date = max(f1.index[0], f2.index[0])\n",
    "    end_date = min(f1.index[-1], f2.index[-1])\n",
    "    feature = f1[(f1.index >= start_date) & (f1.index <= end_date)] \\\n",
    "        - f2[(f2.index >= start_date) & (f2.index <= end_date)]\n",
    "    return feature"
   ]
  },
  {
   "cell_type": "code",
   "execution_count": 21,
   "id": "023381d3",
   "metadata": {},
   "outputs": [
    {
     "data": {
      "text/plain": [
       "2001-07-31    1.46\n",
       "2001-08-01    1.51\n",
       "2001-08-02    1.57\n",
       "2001-08-03    1.62\n",
       "2001-08-06    1.61\n",
       "              ... \n",
       "2020-12-25     NaN\n",
       "2020-12-28    0.85\n",
       "2020-12-29    0.86\n",
       "2020-12-30    0.87\n",
       "2020-12-31    0.85\n",
       "Length: 5068, dtype: float64"
      ]
     },
     "execution_count": 21,
     "metadata": {},
     "output_type": "execute_result"
    }
   ],
   "source": [
    "TE1 = generate_feature(T120, T1)\n",
    "TE1"
   ]
  },
  {
   "cell_type": "code",
   "execution_count": 22,
   "id": "8a8fbe33",
   "metadata": {},
   "outputs": [
    {
     "data": {
      "text/plain": [
       "2000-01-03    1.31\n",
       "2000-01-04    1.22\n",
       "2000-01-05    1.34\n",
       "2000-01-06    1.32\n",
       "2000-01-07    1.30\n",
       "              ... \n",
       "2020-12-25     NaN\n",
       "2020-12-28    0.83\n",
       "2020-12-29    0.84\n",
       "2020-12-30    0.85\n",
       "2020-12-31    0.84\n",
       "Length: 5479, dtype: float64"
      ]
     },
     "execution_count": 22,
     "metadata": {},
     "output_type": "execute_result"
    }
   ],
   "source": [
    "TE2 = generate_feature(T120, T3)\n",
    "TE2"
   ]
  },
  {
   "cell_type": "code",
   "execution_count": 23,
   "id": "3f48253e",
   "metadata": {},
   "outputs": [
    {
     "data": {
      "text/plain": [
       "2000-01-03    1.03\n",
       "2000-01-04    0.99\n",
       "2000-01-05    1.13\n",
       "2000-01-06    1.13\n",
       "2000-01-07    1.10\n",
       "              ... \n",
       "2020-12-25     NaN\n",
       "2020-12-28    0.83\n",
       "2020-12-29    0.82\n",
       "2020-12-30    0.84\n",
       "2020-12-31    0.84\n",
       "Length: 5479, dtype: float64"
      ]
     },
     "execution_count": 23,
     "metadata": {},
     "output_type": "execute_result"
    }
   ],
   "source": [
    "TE3 = generate_feature(T120, T6)\n",
    "TE3"
   ]
  },
  {
   "cell_type": "code",
   "execution_count": 24,
   "id": "e2ecd30f",
   "metadata": {},
   "outputs": [
    {
     "data": {
      "text/plain": [
       "2001-07-31   -0.15\n",
       "2001-08-01   -0.15\n",
       "2001-08-02   -0.15\n",
       "2001-08-03   -0.14\n",
       "2001-08-06   -0.14\n",
       "              ... \n",
       "2020-12-25     NaN\n",
       "2020-12-28    0.02\n",
       "2020-12-29    0.02\n",
       "2020-12-30    0.02\n",
       "2020-12-31    0.01\n",
       "Length: 5068, dtype: float64"
      ]
     },
     "execution_count": 24,
     "metadata": {},
     "output_type": "execute_result"
    }
   ],
   "source": [
    "TE5 = generate_feature(T3, T1)\n",
    "TE5"
   ]
  },
  {
   "cell_type": "code",
   "execution_count": 25,
   "id": "8b90028d",
   "metadata": {},
   "outputs": [
    {
     "data": {
      "text/plain": [
       "2001-07-31   -0.25\n",
       "2001-08-01   -0.24\n",
       "2001-08-02   -0.24\n",
       "2001-08-03   -0.21\n",
       "2001-08-06   -0.22\n",
       "              ... \n",
       "2020-12-25     NaN\n",
       "2020-12-28    0.02\n",
       "2020-12-29    0.04\n",
       "2020-12-30    0.03\n",
       "2020-12-31    0.01\n",
       "Length: 5068, dtype: float64"
      ]
     },
     "execution_count": 25,
     "metadata": {},
     "output_type": "execute_result"
    }
   ],
   "source": [
    "TE6 = generate_feature(T6, T1)\n",
    "TE6"
   ]
  },
  {
   "cell_type": "code",
   "execution_count": 26,
   "id": "a9420694",
   "metadata": {},
   "outputs": [
    {
     "data": {
      "text/plain": [
       "2000-01-03    0.52\n",
       "2000-01-04    0.52\n",
       "2000-01-05    0.51\n",
       "2000-01-06    0.52\n",
       "2000-01-07    0.53\n",
       "              ... \n",
       "2020-12-25     NaN\n",
       "2020-12-28    0.91\n",
       "2020-12-29    0.91\n",
       "2020-12-30    0.91\n",
       "2020-12-31    0.88\n",
       "Length: 5479, dtype: float64"
      ]
     },
     "execution_count": 26,
     "metadata": {},
     "output_type": "execute_result"
    }
   ],
   "source": [
    "DE1 = generate_feature(BAA, AAA)\n",
    "DE1"
   ]
  },
  {
   "cell_type": "code",
   "execution_count": 27,
   "id": "c435eae2",
   "metadata": {},
   "outputs": [
    {
     "data": {
      "text/plain": [
       "2000-01-03    1.69\n",
       "2000-01-04    1.72\n",
       "2000-01-05    1.67\n",
       "2000-01-06    1.67\n",
       "2000-01-07    1.70\n",
       "              ... \n",
       "2020-12-25     NaN\n",
       "2020-12-28    2.22\n",
       "2020-12-29    2.22\n",
       "2020-12-30    2.20\n",
       "2020-12-31    2.18\n",
       "Length: 5479, dtype: float64"
      ]
     },
     "execution_count": 27,
     "metadata": {},
     "output_type": "execute_result"
    }
   ],
   "source": [
    "DE2 = generate_feature(BAA, T120)\n",
    "DE2"
   ]
  },
  {
   "cell_type": "code",
   "execution_count": 28,
   "id": "53fe5798",
   "metadata": {},
   "outputs": [
    {
     "data": {
      "text/plain": [
       "2000-01-03    2.72\n",
       "2000-01-04    2.71\n",
       "2000-01-05    2.80\n",
       "2000-01-06    2.80\n",
       "2000-01-07    2.80\n",
       "              ... \n",
       "2020-12-25     NaN\n",
       "2020-12-28    3.05\n",
       "2020-12-29    3.04\n",
       "2020-12-30    3.04\n",
       "2020-12-31    3.02\n",
       "Length: 5479, dtype: float64"
      ]
     },
     "execution_count": 28,
     "metadata": {},
     "output_type": "execute_result"
    }
   ],
   "source": [
    "DE4 = generate_feature(BAA, T6)\n",
    "DE4"
   ]
  },
  {
   "cell_type": "code",
   "execution_count": 29,
   "id": "e2749f9e",
   "metadata": {},
   "outputs": [
    {
     "data": {
      "text/plain": [
       "2000-01-03    3.00\n",
       "2000-01-04    2.94\n",
       "2000-01-05    3.01\n",
       "2000-01-06    2.99\n",
       "2000-01-07    3.00\n",
       "              ... \n",
       "2020-12-25     NaN\n",
       "2020-12-28    3.05\n",
       "2020-12-29    3.06\n",
       "2020-12-30    3.05\n",
       "2020-12-31    3.02\n",
       "Length: 5479, dtype: float64"
      ]
     },
     "execution_count": 29,
     "metadata": {},
     "output_type": "execute_result"
    }
   ],
   "source": [
    "DE5 = generate_feature(BAA, T3)\n",
    "DE5"
   ]
  },
  {
   "cell_type": "code",
   "execution_count": 30,
   "id": "16efc96d",
   "metadata": {},
   "outputs": [
    {
     "data": {
      "text/plain": [
       "2001-07-31    4.24\n",
       "2001-08-01    4.27\n",
       "2001-08-02    4.31\n",
       "2001-08-03    4.34\n",
       "2001-08-06    4.36\n",
       "              ... \n",
       "2020-12-25     NaN\n",
       "2020-12-28    3.07\n",
       "2020-12-29    3.08\n",
       "2020-12-30    3.07\n",
       "2020-12-31    3.03\n",
       "Length: 5068, dtype: float64"
      ]
     },
     "execution_count": 30,
     "metadata": {},
     "output_type": "execute_result"
    }
   ],
   "source": [
    "DE6 = generate_feature(BAA, T1)\n",
    "DE6"
   ]
  },
  {
   "cell_type": "code",
   "execution_count": 31,
   "id": "fcd4677c",
   "metadata": {},
   "outputs": [
    {
     "data": {
      "text/plain": [
       "2000-01-03    0.50\n",
       "2000-01-04    0.64\n",
       "2000-01-05    0.64\n",
       "2000-01-06    0.71\n",
       "2000-01-07    0.75\n",
       "              ... \n",
       "2013-06-24    0.15\n",
       "2013-06-25    0.16\n",
       "2013-06-26    0.16\n",
       "2013-06-27    0.16\n",
       "2013-06-28    0.17\n",
       "Length: 3520, dtype: float64"
      ]
     },
     "execution_count": 31,
     "metadata": {},
     "output_type": "execute_result"
    }
   ],
   "source": [
    "DE7 = generate_feature(CD6, T6)\n",
    "DE7"
   ]
  },
  {
   "cell_type": "code",
   "execution_count": 83,
   "id": "fcb9d610",
   "metadata": {},
   "outputs": [
    {
     "data": {
      "text/html": [
       "<div>\n",
       "<style scoped>\n",
       "    .dataframe tbody tr th:only-of-type {\n",
       "        vertical-align: middle;\n",
       "    }\n",
       "\n",
       "    .dataframe tbody tr th {\n",
       "        vertical-align: top;\n",
       "    }\n",
       "\n",
       "    .dataframe thead th {\n",
       "        text-align: right;\n",
       "    }\n",
       "</style>\n",
       "<table border=\"1\" class=\"dataframe\">\n",
       "  <thead>\n",
       "    <tr style=\"text-align: right;\">\n",
       "      <th></th>\n",
       "      <th>Cushing, OK WTI Spot Price FOB (Dollars per Barrel)</th>\n",
       "    </tr>\n",
       "    <tr>\n",
       "      <th>Date</th>\n",
       "      <th></th>\n",
       "    </tr>\n",
       "  </thead>\n",
       "  <tbody>\n",
       "    <tr>\n",
       "      <th>2000-01-04</th>\n",
       "      <td>25.56</td>\n",
       "    </tr>\n",
       "    <tr>\n",
       "      <th>2000-01-05</th>\n",
       "      <td>24.65</td>\n",
       "    </tr>\n",
       "    <tr>\n",
       "      <th>2000-01-06</th>\n",
       "      <td>24.79</td>\n",
       "    </tr>\n",
       "    <tr>\n",
       "      <th>2000-01-07</th>\n",
       "      <td>24.79</td>\n",
       "    </tr>\n",
       "    <tr>\n",
       "      <th>2000-01-10</th>\n",
       "      <td>24.71</td>\n",
       "    </tr>\n",
       "    <tr>\n",
       "      <th>...</th>\n",
       "      <td>...</td>\n",
       "    </tr>\n",
       "    <tr>\n",
       "      <th>2020-12-24</th>\n",
       "      <td>48.18</td>\n",
       "    </tr>\n",
       "    <tr>\n",
       "      <th>2020-12-28</th>\n",
       "      <td>47.50</td>\n",
       "    </tr>\n",
       "    <tr>\n",
       "      <th>2020-12-29</th>\n",
       "      <td>47.85</td>\n",
       "    </tr>\n",
       "    <tr>\n",
       "      <th>2020-12-30</th>\n",
       "      <td>48.24</td>\n",
       "    </tr>\n",
       "    <tr>\n",
       "      <th>2020-12-31</th>\n",
       "      <td>48.35</td>\n",
       "    </tr>\n",
       "  </tbody>\n",
       "</table>\n",
       "<p>5271 rows × 1 columns</p>\n",
       "</div>"
      ],
      "text/plain": [
       "            Cushing, OK WTI Spot Price FOB (Dollars per Barrel)\n",
       "Date                                                           \n",
       "2000-01-04                                              25.56  \n",
       "2000-01-05                                              24.65  \n",
       "2000-01-06                                              24.79  \n",
       "2000-01-07                                              24.79  \n",
       "2000-01-10                                              24.71  \n",
       "...                                                       ...  \n",
       "2020-12-24                                              48.18  \n",
       "2020-12-28                                              47.50  \n",
       "2020-12-29                                              47.85  \n",
       "2020-12-30                                              48.24  \n",
       "2020-12-31                                              48.35  \n",
       "\n",
       "[5271 rows x 1 columns]"
      ]
     },
     "execution_count": 83,
     "metadata": {},
     "output_type": "execute_result"
    }
   ],
   "source": [
    "data = pd.read_excel(\"https://www.eia.gov/dnav/pet/hist_xls/RWTCd.xls\", sheet_name = 'Data 1', skiprows = 2)\n",
    "data = data.set_index('Date')\n",
    "data[(data.index >= start_date) & (data.index <=end_date)]"
   ]
  },
  {
   "cell_type": "code",
   "execution_count": 81,
   "id": "12f4e12d",
   "metadata": {},
   "outputs": [
    {
     "data": {
      "text/plain": [
       "pandas._libs.tslibs.timestamps.Timestamp"
      ]
     },
     "execution_count": 81,
     "metadata": {},
     "output_type": "execute_result"
    }
   ],
   "source": [
    "type(data.index[0])"
   ]
  },
  {
   "cell_type": "code",
   "execution_count": 33,
   "id": "10a8d3e6",
   "metadata": {},
   "outputs": [
    {
     "data": {
      "text/html": [
       "<div>\n",
       "<style scoped>\n",
       "    .dataframe tbody tr th:only-of-type {\n",
       "        vertical-align: middle;\n",
       "    }\n",
       "\n",
       "    .dataframe tbody tr th {\n",
       "        vertical-align: top;\n",
       "    }\n",
       "\n",
       "    .dataframe thead th {\n",
       "        text-align: right;\n",
       "    }\n",
       "</style>\n",
       "<table border=\"1\" class=\"dataframe\">\n",
       "  <thead>\n",
       "    <tr style=\"text-align: right;\">\n",
       "      <th></th>\n",
       "      <th>Cushing, OK WTI Spot Price FOB (Dollars per Barrel)</th>\n",
       "    </tr>\n",
       "    <tr>\n",
       "      <th>Date</th>\n",
       "      <th></th>\n",
       "    </tr>\n",
       "  </thead>\n",
       "  <tbody>\n",
       "    <tr>\n",
       "      <th>1986-01-02</th>\n",
       "      <td>NaN</td>\n",
       "    </tr>\n",
       "    <tr>\n",
       "      <th>1986-01-03</th>\n",
       "      <td>0.017214</td>\n",
       "    </tr>\n",
       "    <tr>\n",
       "      <th>1986-01-06</th>\n",
       "      <td>0.020385</td>\n",
       "    </tr>\n",
       "    <tr>\n",
       "      <th>1986-01-07</th>\n",
       "      <td>-0.025631</td>\n",
       "    </tr>\n",
       "    <tr>\n",
       "      <th>1986-01-08</th>\n",
       "      <td>0.000774</td>\n",
       "    </tr>\n",
       "    <tr>\n",
       "      <th>...</th>\n",
       "      <td>...</td>\n",
       "    </tr>\n",
       "    <tr>\n",
       "      <th>2022-05-03</th>\n",
       "      <td>-0.025195</td>\n",
       "    </tr>\n",
       "    <tr>\n",
       "      <th>2022-05-04</th>\n",
       "      <td>0.051790</td>\n",
       "    </tr>\n",
       "    <tr>\n",
       "      <th>2022-05-05</th>\n",
       "      <td>0.003060</td>\n",
       "    </tr>\n",
       "    <tr>\n",
       "      <th>2022-05-06</th>\n",
       "      <td>0.014329</td>\n",
       "    </tr>\n",
       "    <tr>\n",
       "      <th>2022-05-09</th>\n",
       "      <td>-0.060518</td>\n",
       "    </tr>\n",
       "  </tbody>\n",
       "</table>\n",
       "<p>9160 rows × 1 columns</p>\n",
       "</div>"
      ],
      "text/plain": [
       "            Cushing, OK WTI Spot Price FOB (Dollars per Barrel)\n",
       "Date                                                           \n",
       "1986-01-02                                                NaN  \n",
       "1986-01-03                                           0.017214  \n",
       "1986-01-06                                           0.020385  \n",
       "1986-01-07                                          -0.025631  \n",
       "1986-01-08                                           0.000774  \n",
       "...                                                       ...  \n",
       "2022-05-03                                          -0.025195  \n",
       "2022-05-04                                           0.051790  \n",
       "2022-05-05                                           0.003060  \n",
       "2022-05-06                                           0.014329  \n",
       "2022-05-09                                          -0.060518  \n",
       "\n",
       "[9160 rows x 1 columns]"
      ]
     },
     "execution_count": 33,
     "metadata": {},
     "output_type": "execute_result"
    }
   ],
   "source": [
    "OIL = (data - data.shift()) / data.shift() # need SPY dates as control\n",
    "OIL"
   ]
  },
  {
   "cell_type": "code",
   "execution_count": 34,
   "id": "7710da4d",
   "metadata": {},
   "outputs": [
    {
     "name": "stdout",
     "output_type": "stream",
     "text": [
      "<HTML>\n",
      "<HEAD>\n",
      "<TITLE>403 Forbidden</TITLE>\n",
      "</HEAD>\n",
      "<BODY>\n",
      "<H1>Forbidden</H1>\n",
      "You do not have permission to access this document.\n",
      "<P>\n",
      "<HR>\n",
      "<ADDRESS>\n",
      "Web Server at usagold.com\n",
      "</ADDRESS>\n",
      "</BODY>\n",
      "</HTML>\n",
      "\n",
      "<!--\n",
      "   - Unfortunately, Microsoft has added a clever new\n",
      "   - \"feature\" to Internet Explorer. If the text of\n",
      "   - an error's message is \"too small\", specifically\n",
      "   - less than 512 bytes, Internet Explorer returns\n",
      "   - its own error message. You can turn that off,\n",
      "   - but it's pretty tricky to find switch called\n",
      "   - \"smart error messages\". That means, of course,\n",
      "   - that short error messages are censored by default.\n",
      "   - IIS always returns error messages that are long\n",
      "   - enough to make Internet Explorer happy. The\n",
      "   - workaround is pretty simple: pad the error\n",
      "   - message with a big comment like this to push it\n",
      "   - over the five hundred and twelve bytes minimum.\n",
      "   - Of course, that's exactly what you're reading\n",
      "   - right now.\n",
      "   -->\n",
      "\n"
     ]
    }
   ],
   "source": [
    "import requests\n",
    "\n",
    "link = \"https://www.usagold.com/daily-gold-price-history/?ddYears=2000\"\n",
    "f = requests.get(link)\n",
    "print(f.text)"
   ]
  },
  {
   "cell_type": "code",
   "execution_count": 76,
   "id": "d719f429",
   "metadata": {},
   "outputs": [
    {
     "data": {
      "text/html": [
       "<div>\n",
       "<style scoped>\n",
       "    .dataframe tbody tr th:only-of-type {\n",
       "        vertical-align: middle;\n",
       "    }\n",
       "\n",
       "    .dataframe tbody tr th {\n",
       "        vertical-align: top;\n",
       "    }\n",
       "\n",
       "    .dataframe thead th {\n",
       "        text-align: right;\n",
       "    }\n",
       "</style>\n",
       "<table border=\"1\" class=\"dataframe\">\n",
       "  <thead>\n",
       "    <tr style=\"text-align: right;\">\n",
       "      <th></th>\n",
       "      <th>Citation: Lawrence H. Officer and Samuel H. Williamson, 'The Price of Gold, 1257-2014,' MeasuringWorth, 2022.</th>\n",
       "    </tr>\n",
       "  </thead>\n",
       "  <tbody>\n",
       "    <tr>\n",
       "      <th>2000-01-01</th>\n",
       "      <td>280.10</td>\n",
       "    </tr>\n",
       "    <tr>\n",
       "      <th>2001-01-01</th>\n",
       "      <td>272.22</td>\n",
       "    </tr>\n",
       "    <tr>\n",
       "      <th>2002-01-01</th>\n",
       "      <td>311.33</td>\n",
       "    </tr>\n",
       "    <tr>\n",
       "      <th>2003-01-01</th>\n",
       "      <td>364.80</td>\n",
       "    </tr>\n",
       "    <tr>\n",
       "      <th>2004-01-01</th>\n",
       "      <td>410.52</td>\n",
       "    </tr>\n",
       "    <tr>\n",
       "      <th>2005-01-01</th>\n",
       "      <td>446.00</td>\n",
       "    </tr>\n",
       "    <tr>\n",
       "      <th>2006-01-01</th>\n",
       "      <td>606.00</td>\n",
       "    </tr>\n",
       "    <tr>\n",
       "      <th>2007-01-01</th>\n",
       "      <td>699.00</td>\n",
       "    </tr>\n",
       "    <tr>\n",
       "      <th>2008-01-01</th>\n",
       "      <td>874.00</td>\n",
       "    </tr>\n",
       "    <tr>\n",
       "      <th>2009-01-01</th>\n",
       "      <td>975.00</td>\n",
       "    </tr>\n",
       "    <tr>\n",
       "      <th>2010-01-01</th>\n",
       "      <td>1,227.00</td>\n",
       "    </tr>\n",
       "    <tr>\n",
       "      <th>2011-01-01</th>\n",
       "      <td>1,572.00</td>\n",
       "    </tr>\n",
       "    <tr>\n",
       "      <th>2012-01-01</th>\n",
       "      <td>1,700.00</td>\n",
       "    </tr>\n",
       "    <tr>\n",
       "      <th>2013-01-01</th>\n",
       "      <td>1,415.00</td>\n",
       "    </tr>\n",
       "    <tr>\n",
       "      <th>2014-01-01</th>\n",
       "      <td>1,269.00</td>\n",
       "    </tr>\n",
       "    <tr>\n",
       "      <th>2015-01-01</th>\n",
       "      <td>1,163.00</td>\n",
       "    </tr>\n",
       "    <tr>\n",
       "      <th>2016-01-01</th>\n",
       "      <td>1,252.00</td>\n",
       "    </tr>\n",
       "    <tr>\n",
       "      <th>2017-01-01</th>\n",
       "      <td>1,260.00</td>\n",
       "    </tr>\n",
       "    <tr>\n",
       "      <th>2018-01-01</th>\n",
       "      <td>1,270.00</td>\n",
       "    </tr>\n",
       "    <tr>\n",
       "      <th>2019-01-01</th>\n",
       "      <td>1,390.00</td>\n",
       "    </tr>\n",
       "    <tr>\n",
       "      <th>2020-01-01</th>\n",
       "      <td>1,770.00</td>\n",
       "    </tr>\n",
       "  </tbody>\n",
       "</table>\n",
       "</div>"
      ],
      "text/plain": [
       "           Citation: Lawrence H. Officer and Samuel H. Williamson, 'The Price of Gold, 1257-2014,' MeasuringWorth, 2022. \n",
       "2000-01-01                                             280.10                                                            \n",
       "2001-01-01                                             272.22                                                            \n",
       "2002-01-01                                             311.33                                                            \n",
       "2003-01-01                                             364.80                                                            \n",
       "2004-01-01                                             410.52                                                            \n",
       "2005-01-01                                             446.00                                                            \n",
       "2006-01-01                                             606.00                                                            \n",
       "2007-01-01                                             699.00                                                            \n",
       "2008-01-01                                             874.00                                                            \n",
       "2009-01-01                                             975.00                                                            \n",
       "2010-01-01                                           1,227.00                                                            \n",
       "2011-01-01                                           1,572.00                                                            \n",
       "2012-01-01                                           1,700.00                                                            \n",
       "2013-01-01                                           1,415.00                                                            \n",
       "2014-01-01                                           1,269.00                                                            \n",
       "2015-01-01                                           1,163.00                                                            \n",
       "2016-01-01                                           1,252.00                                                            \n",
       "2017-01-01                                           1,260.00                                                            \n",
       "2018-01-01                                           1,270.00                                                            \n",
       "2019-01-01                                           1,390.00                                                            \n",
       "2020-01-01                                           1,770.00                                                            "
      ]
     },
     "execution_count": 76,
     "metadata": {},
     "output_type": "execute_result"
    }
   ],
   "source": [
    "Gold = pd.read_csv('/Users/jinghuang/Desktop/MAS/high-priority-papers/src/GOLD_2000-2020.csv').iloc[1:, ::]\n",
    "Gold.index = pd.to_datetime(Gold.index)\n",
    "Gold"
   ]
  },
  {
   "cell_type": "code",
   "execution_count": 72,
   "id": "4730a904",
   "metadata": {},
   "outputs": [
    {
     "data": {
      "text/plain": [
       "str"
      ]
     },
     "execution_count": 72,
     "metadata": {},
     "output_type": "execute_result"
    }
   ],
   "source": [
    "type(Gold.iloc[1:,::].index[0])"
   ]
  },
  {
   "cell_type": "code",
   "execution_count": 36,
   "id": "64c084b6",
   "metadata": {},
   "outputs": [],
   "source": [
    "#pip install investpy\n",
    "import investpy"
   ]
  },
  {
   "cell_type": "code",
   "execution_count": 37,
   "id": "62f69be2",
   "metadata": {},
   "outputs": [],
   "source": [
    "start_date = \"01/01/2000\"\n",
    "end_date = \"31/12/2020\""
   ]
  },
  {
   "cell_type": "code",
   "execution_count": 38,
   "id": "3825dcb2",
   "metadata": {},
   "outputs": [
    {
     "data": {
      "text/html": [
       "<div>\n",
       "<style scoped>\n",
       "    .dataframe tbody tr th:only-of-type {\n",
       "        vertical-align: middle;\n",
       "    }\n",
       "\n",
       "    .dataframe tbody tr th {\n",
       "        vertical-align: top;\n",
       "    }\n",
       "\n",
       "    .dataframe thead th {\n",
       "        text-align: right;\n",
       "    }\n",
       "</style>\n",
       "<table border=\"1\" class=\"dataframe\">\n",
       "  <thead>\n",
       "    <tr style=\"text-align: right;\">\n",
       "      <th></th>\n",
       "      <th>Open</th>\n",
       "      <th>High</th>\n",
       "      <th>Low</th>\n",
       "      <th>Close</th>\n",
       "      <th>Currency</th>\n",
       "    </tr>\n",
       "    <tr>\n",
       "      <th>Date</th>\n",
       "      <th></th>\n",
       "      <th></th>\n",
       "      <th></th>\n",
       "      <th></th>\n",
       "      <th></th>\n",
       "    </tr>\n",
       "  </thead>\n",
       "  <tbody>\n",
       "    <tr>\n",
       "      <th>2000-01-03</th>\n",
       "      <td>102.11</td>\n",
       "      <td>102.18</td>\n",
       "      <td>101.31</td>\n",
       "      <td>101.59</td>\n",
       "      <td>JPY</td>\n",
       "    </tr>\n",
       "    <tr>\n",
       "      <th>2000-01-04</th>\n",
       "      <td>101.46</td>\n",
       "      <td>103.28</td>\n",
       "      <td>101.40</td>\n",
       "      <td>103.27</td>\n",
       "      <td>JPY</td>\n",
       "    </tr>\n",
       "    <tr>\n",
       "      <th>2000-01-05</th>\n",
       "      <td>103.28</td>\n",
       "      <td>104.40</td>\n",
       "      <td>102.76</td>\n",
       "      <td>104.29</td>\n",
       "      <td>JPY</td>\n",
       "    </tr>\n",
       "    <tr>\n",
       "      <th>2000-01-06</th>\n",
       "      <td>104.32</td>\n",
       "      <td>105.55</td>\n",
       "      <td>103.97</td>\n",
       "      <td>105.33</td>\n",
       "      <td>JPY</td>\n",
       "    </tr>\n",
       "    <tr>\n",
       "      <th>2000-01-07</th>\n",
       "      <td>105.27</td>\n",
       "      <td>105.91</td>\n",
       "      <td>104.85</td>\n",
       "      <td>105.36</td>\n",
       "      <td>JPY</td>\n",
       "    </tr>\n",
       "  </tbody>\n",
       "</table>\n",
       "</div>"
      ],
      "text/plain": [
       "              Open    High     Low   Close Currency\n",
       "Date                                               \n",
       "2000-01-03  102.11  102.18  101.31  101.59      JPY\n",
       "2000-01-04  101.46  103.28  101.40  103.27      JPY\n",
       "2000-01-05  103.28  104.40  102.76  104.29      JPY\n",
       "2000-01-06  104.32  105.55  103.97  105.33      JPY\n",
       "2000-01-07  105.27  105.91  104.85  105.36      JPY"
      ]
     },
     "execution_count": 38,
     "metadata": {},
     "output_type": "execute_result"
    }
   ],
   "source": [
    "USD_Y = investpy.get_currency_cross_historical_data(currency_cross='USD/JPY', from_date=start_date, to_date=end_date)\n",
    "USD_Y.head()"
   ]
  },
  {
   "cell_type": "code",
   "execution_count": 39,
   "id": "21e46d01",
   "metadata": {},
   "outputs": [
    {
     "data": {
      "text/html": [
       "<div>\n",
       "<style scoped>\n",
       "    .dataframe tbody tr th:only-of-type {\n",
       "        vertical-align: middle;\n",
       "    }\n",
       "\n",
       "    .dataframe tbody tr th {\n",
       "        vertical-align: top;\n",
       "    }\n",
       "\n",
       "    .dataframe thead th {\n",
       "        text-align: right;\n",
       "    }\n",
       "</style>\n",
       "<table border=\"1\" class=\"dataframe\">\n",
       "  <thead>\n",
       "    <tr style=\"text-align: right;\">\n",
       "      <th></th>\n",
       "      <th>Open</th>\n",
       "      <th>High</th>\n",
       "      <th>Low</th>\n",
       "      <th>Close</th>\n",
       "      <th>Currency</th>\n",
       "    </tr>\n",
       "    <tr>\n",
       "      <th>Date</th>\n",
       "      <th></th>\n",
       "      <th></th>\n",
       "      <th></th>\n",
       "      <th></th>\n",
       "      <th></th>\n",
       "    </tr>\n",
       "  </thead>\n",
       "  <tbody>\n",
       "    <tr>\n",
       "      <th>2000-01-03</th>\n",
       "      <td>1.6143</td>\n",
       "      <td>1.6397</td>\n",
       "      <td>1.6143</td>\n",
       "      <td>1.6370</td>\n",
       "      <td>USD</td>\n",
       "    </tr>\n",
       "    <tr>\n",
       "      <th>2000-01-04</th>\n",
       "      <td>1.6363</td>\n",
       "      <td>1.6415</td>\n",
       "      <td>1.6315</td>\n",
       "      <td>1.6370</td>\n",
       "      <td>USD</td>\n",
       "    </tr>\n",
       "    <tr>\n",
       "      <th>2000-01-05</th>\n",
       "      <td>1.6355</td>\n",
       "      <td>1.6452</td>\n",
       "      <td>1.6354</td>\n",
       "      <td>1.6420</td>\n",
       "      <td>USD</td>\n",
       "    </tr>\n",
       "    <tr>\n",
       "      <th>2000-01-06</th>\n",
       "      <td>1.6422</td>\n",
       "      <td>1.6513</td>\n",
       "      <td>1.6413</td>\n",
       "      <td>1.6468</td>\n",
       "      <td>USD</td>\n",
       "    </tr>\n",
       "    <tr>\n",
       "      <th>2000-01-07</th>\n",
       "      <td>1.6469</td>\n",
       "      <td>1.6500</td>\n",
       "      <td>1.6362</td>\n",
       "      <td>1.6387</td>\n",
       "      <td>USD</td>\n",
       "    </tr>\n",
       "  </tbody>\n",
       "</table>\n",
       "</div>"
      ],
      "text/plain": [
       "              Open    High     Low   Close Currency\n",
       "Date                                               \n",
       "2000-01-03  1.6143  1.6397  1.6143  1.6370      USD\n",
       "2000-01-04  1.6363  1.6415  1.6315  1.6370      USD\n",
       "2000-01-05  1.6355  1.6452  1.6354  1.6420      USD\n",
       "2000-01-06  1.6422  1.6513  1.6413  1.6468      USD\n",
       "2000-01-07  1.6469  1.6500  1.6362  1.6387      USD"
      ]
     },
     "execution_count": 39,
     "metadata": {},
     "output_type": "execute_result"
    }
   ],
   "source": [
    "USD_GBP = investpy.get_currency_cross_historical_data(currency_cross='GBP/USD', from_date=start_date, to_date=end_date)\n",
    "USD_GBP.head()"
   ]
  },
  {
   "cell_type": "code",
   "execution_count": 40,
   "id": "abf9759a",
   "metadata": {},
   "outputs": [
    {
     "data": {
      "text/html": [
       "<div>\n",
       "<style scoped>\n",
       "    .dataframe tbody tr th:only-of-type {\n",
       "        vertical-align: middle;\n",
       "    }\n",
       "\n",
       "    .dataframe tbody tr th {\n",
       "        vertical-align: top;\n",
       "    }\n",
       "\n",
       "    .dataframe thead th {\n",
       "        text-align: right;\n",
       "    }\n",
       "</style>\n",
       "<table border=\"1\" class=\"dataframe\">\n",
       "  <thead>\n",
       "    <tr style=\"text-align: right;\">\n",
       "      <th></th>\n",
       "      <th>Open</th>\n",
       "      <th>High</th>\n",
       "      <th>Low</th>\n",
       "      <th>Close</th>\n",
       "      <th>Currency</th>\n",
       "    </tr>\n",
       "    <tr>\n",
       "      <th>Date</th>\n",
       "      <th></th>\n",
       "      <th></th>\n",
       "      <th></th>\n",
       "      <th></th>\n",
       "      <th></th>\n",
       "    </tr>\n",
       "  </thead>\n",
       "  <tbody>\n",
       "    <tr>\n",
       "      <th>2000-01-03</th>\n",
       "      <td>1.4458</td>\n",
       "      <td>1.4475</td>\n",
       "      <td>1.4410</td>\n",
       "      <td>1.4466</td>\n",
       "      <td>CAD</td>\n",
       "    </tr>\n",
       "    <tr>\n",
       "      <th>2000-01-04</th>\n",
       "      <td>1.4470</td>\n",
       "      <td>1.4533</td>\n",
       "      <td>1.4438</td>\n",
       "      <td>1.4520</td>\n",
       "      <td>CAD</td>\n",
       "    </tr>\n",
       "    <tr>\n",
       "      <th>2000-01-05</th>\n",
       "      <td>1.4528</td>\n",
       "      <td>1.4561</td>\n",
       "      <td>1.4484</td>\n",
       "      <td>1.4495</td>\n",
       "      <td>CAD</td>\n",
       "    </tr>\n",
       "    <tr>\n",
       "      <th>2000-01-06</th>\n",
       "      <td>1.4502</td>\n",
       "      <td>1.4602</td>\n",
       "      <td>1.4496</td>\n",
       "      <td>1.4595</td>\n",
       "      <td>CAD</td>\n",
       "    </tr>\n",
       "    <tr>\n",
       "      <th>2000-01-07</th>\n",
       "      <td>1.4595</td>\n",
       "      <td>1.4620</td>\n",
       "      <td>1.4555</td>\n",
       "      <td>1.4558</td>\n",
       "      <td>CAD</td>\n",
       "    </tr>\n",
       "  </tbody>\n",
       "</table>\n",
       "</div>"
      ],
      "text/plain": [
       "              Open    High     Low   Close Currency\n",
       "Date                                               \n",
       "2000-01-03  1.4458  1.4475  1.4410  1.4466      CAD\n",
       "2000-01-04  1.4470  1.4533  1.4438  1.4520      CAD\n",
       "2000-01-05  1.4528  1.4561  1.4484  1.4495      CAD\n",
       "2000-01-06  1.4502  1.4602  1.4496  1.4595      CAD\n",
       "2000-01-07  1.4595  1.4620  1.4555  1.4558      CAD"
      ]
     },
     "execution_count": 40,
     "metadata": {},
     "output_type": "execute_result"
    }
   ],
   "source": [
    "USD_CAD = investpy.get_currency_cross_historical_data(currency_cross='USD/CAD', from_date=start_date, to_date=end_date)\n",
    "USD_CAD.head()"
   ]
  },
  {
   "cell_type": "code",
   "execution_count": 41,
   "id": "2fde6009",
   "metadata": {},
   "outputs": [
    {
     "data": {
      "text/html": [
       "<div>\n",
       "<style scoped>\n",
       "    .dataframe tbody tr th:only-of-type {\n",
       "        vertical-align: middle;\n",
       "    }\n",
       "\n",
       "    .dataframe tbody tr th {\n",
       "        vertical-align: top;\n",
       "    }\n",
       "\n",
       "    .dataframe thead th {\n",
       "        text-align: right;\n",
       "    }\n",
       "</style>\n",
       "<table border=\"1\" class=\"dataframe\">\n",
       "  <thead>\n",
       "    <tr style=\"text-align: right;\">\n",
       "      <th></th>\n",
       "      <th>Open</th>\n",
       "      <th>High</th>\n",
       "      <th>Low</th>\n",
       "      <th>Close</th>\n",
       "      <th>Currency</th>\n",
       "    </tr>\n",
       "    <tr>\n",
       "      <th>Date</th>\n",
       "      <th></th>\n",
       "      <th></th>\n",
       "      <th></th>\n",
       "      <th></th>\n",
       "      <th></th>\n",
       "    </tr>\n",
       "  </thead>\n",
       "  <tbody>\n",
       "    <tr>\n",
       "      <th>2000-01-03</th>\n",
       "      <td>8.2798</td>\n",
       "      <td>8.2798</td>\n",
       "      <td>8.2798</td>\n",
       "      <td>8.2798</td>\n",
       "      <td>CNY</td>\n",
       "    </tr>\n",
       "    <tr>\n",
       "      <th>2000-01-04</th>\n",
       "      <td>8.2799</td>\n",
       "      <td>8.2799</td>\n",
       "      <td>8.2799</td>\n",
       "      <td>8.2799</td>\n",
       "      <td>CNY</td>\n",
       "    </tr>\n",
       "    <tr>\n",
       "      <th>2000-01-05</th>\n",
       "      <td>8.2798</td>\n",
       "      <td>8.2798</td>\n",
       "      <td>8.2798</td>\n",
       "      <td>8.2798</td>\n",
       "      <td>CNY</td>\n",
       "    </tr>\n",
       "    <tr>\n",
       "      <th>2000-01-06</th>\n",
       "      <td>8.2797</td>\n",
       "      <td>8.2797</td>\n",
       "      <td>8.2797</td>\n",
       "      <td>8.2797</td>\n",
       "      <td>CNY</td>\n",
       "    </tr>\n",
       "    <tr>\n",
       "      <th>2000-01-07</th>\n",
       "      <td>8.2794</td>\n",
       "      <td>8.2794</td>\n",
       "      <td>8.2794</td>\n",
       "      <td>8.2794</td>\n",
       "      <td>CNY</td>\n",
       "    </tr>\n",
       "  </tbody>\n",
       "</table>\n",
       "</div>"
      ],
      "text/plain": [
       "              Open    High     Low   Close Currency\n",
       "Date                                               \n",
       "2000-01-03  8.2798  8.2798  8.2798  8.2798      CNY\n",
       "2000-01-04  8.2799  8.2799  8.2799  8.2799      CNY\n",
       "2000-01-05  8.2798  8.2798  8.2798  8.2798      CNY\n",
       "2000-01-06  8.2797  8.2797  8.2797  8.2797      CNY\n",
       "2000-01-07  8.2794  8.2794  8.2794  8.2794      CNY"
      ]
     },
     "execution_count": 41,
     "metadata": {},
     "output_type": "execute_result"
    }
   ],
   "source": [
    "USD_CNY = investpy.get_currency_cross_historical_data(currency_cross='USD/CNY', from_date=start_date, to_date=end_date)\n",
    "USD_CNY.head()"
   ]
  }
 ],
 "metadata": {
  "kernelspec": {
   "display_name": "Python 3 (ipykernel)",
   "language": "python",
   "name": "python3"
  },
  "language_info": {
   "codemirror_mode": {
    "name": "ipython",
    "version": 3
   },
   "file_extension": ".py",
   "mimetype": "text/x-python",
   "name": "python",
   "nbconvert_exporter": "python",
   "pygments_lexer": "ipython3",
   "version": "3.9.7"
  }
 },
 "nbformat": 4,
 "nbformat_minor": 5
}
