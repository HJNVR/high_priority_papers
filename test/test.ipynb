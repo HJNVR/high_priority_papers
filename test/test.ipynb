{
 "cells": [
  {
   "cell_type": "code",
   "execution_count": 2,
   "id": "dd487dd4",
   "metadata": {},
   "outputs": [
    {
     "name": "stdout",
     "output_type": "stream",
     "text": [
      "\r",
      "[*********************100%***********************]  1 of 1 completed"
     ]
    },
    {
     "name": "stderr",
     "output_type": "stream",
     "text": [
      ".."
     ]
    },
    {
     "name": "stdout",
     "output_type": "stream",
     "text": [
      "\n"
     ]
    },
    {
     "name": "stderr",
     "output_type": "stream",
     "text": [
      "\n",
      "----------------------------------------------------------------------\n",
      "Ran 2 tests in 0.006s\n",
      "\n",
      "OK\n"
     ]
    }
   ],
   "source": [
    "import unittest\n",
    "import numpy as np \n",
    "import pandas as pd\n",
    "from numpy.testing import assert_array_equal\n",
    "import yfinance as yf\n",
    "from fredapi import Fred\n",
    "\n",
    "class Testing(unittest.TestCase):\n",
    "\n",
    "    start_date = '2000-01-01'\n",
    "    end_date = '2020-12-31'\n",
    "    \n",
    "    # Fred API key: ab766afb0df13dba8492403a7865f852\n",
    "    fred = Fred(api_key = 'ab766afb0df13dba8492403a7865f852')\n",
    "\n",
    "    T1 = fred.get_series('DTB4WK', observation_start=start_date, observation_end=end_date)\n",
    "    T3 = fred.get_series('DTB3', observation_start=start_date, observation_end=end_date)\n",
    "    T6 = fred.get_series('DTB6', observation_start=start_date, observation_end=end_date)\n",
    "    T60 = fred.get_series('DGS5', observation_start=start_date, observation_end=end_date)\n",
    "    T120 = fred.get_series('DGS10', observation_start=start_date, observation_end=end_date)\n",
    "\n",
    "    #Yahoo Finance\n",
    "    test = pd.read_csv('test.csv').loc[1:, ::]\n",
    "    test.reset_index(drop=True)\n",
    "    test = test.fillna(0)\n",
    "\n",
    "    df = yf.download(\"SPY\", start=start_date, end=end_date)\n",
    "    SPYt = df['Adj Close'].pct_change()[1:]\n",
    "    SPYt1 = df['Adj Close'].shift(1).pct_change()[1:].fillna(0)\n",
    "    SPYt2 = df['Adj Close'].shift(2).pct_change()[1:].fillna(0)\n",
    "    SPYt3 = df['Adj Close'].shift(3).pct_change()[1:].fillna(0)\n",
    "\n",
    "    def setUp(self):\n",
    "        self.vars = [self.T1, self.T3, self.T6, self.T60, self.T120]\n",
    "                     #self.CD1, self.CD3, self.CD6, self.CTB3M]\n",
    "                     #self.CTB6M, self.CTB1Y, self.CTB5Y, self.CTB10Y, self.AAA, self.BAA]sel\n",
    "\n",
    "        self.var_cal = [self.SPYt, self.SPYt1, self.SPYt2, self.SPYt3]\n",
    "        self.var_cal_str = ['SPYt', 'SPYt1', 'SPYt2', 'SPYt3']\n",
    "        \n",
    "    def test_date(self):\n",
    "        for var in self.vars:\n",
    "            self.assertTrue(var.index[0].year >= int(self.start_date[:4]))\n",
    "            self.assertTrue(var.index[-1].year <= int(self.end_date[:4]))\n",
    "\n",
    "    def test_calculation(self):\n",
    "        for i in range(len(self.var_cal)):\n",
    "            assert_array_equal(self.var_cal[i].round(2).values, self.test[self.var_cal_str[i]].round(2).values)\n",
    "            \n",
    "if __name__ == '__main__':\n",
    "    unittest.main(argv=['first-arg-is-ignored'], exit=False)"
   ]
  },
  {
   "cell_type": "code",
   "execution_count": null,
   "id": "249d3b99",
   "metadata": {},
   "outputs": [],
   "source": []
  }
 ],
 "metadata": {
  "kernelspec": {
   "display_name": "Python 3",
   "language": "python",
   "name": "python3"
  },
  "language_info": {
   "codemirror_mode": {
    "name": "ipython",
    "version": 3
   },
   "file_extension": ".py",
   "mimetype": "text/x-python",
   "name": "python",
   "nbconvert_exporter": "python",
   "pygments_lexer": "ipython3",
   "version": "3.8.8"
  }
 },
 "nbformat": 4,
 "nbformat_minor": 5
}
