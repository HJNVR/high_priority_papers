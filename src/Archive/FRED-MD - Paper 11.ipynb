{
 "cells": [
  {
   "cell_type": "code",
   "execution_count": 2,
   "id": "75114edc",
   "metadata": {},
   "outputs": [
    {
     "data": {
      "text/html": [
       "<style>.container { width:90% !important; }</style>"
      ],
      "text/plain": [
       "<IPython.core.display.HTML object>"
      ]
     },
     "metadata": {},
     "output_type": "display_data"
    }
   ],
   "source": [
    "from IPython.core.display import display, HTML\n",
    "display(HTML(\"<style>.container { width:90% !important; }</style>\"))"
   ]
  },
  {
   "cell_type": "code",
   "execution_count": 3,
   "id": "a81e6aad",
   "metadata": {},
   "outputs": [],
   "source": [
    "import pandas as pd\n",
    "from fredapi import Fred"
   ]
  },
  {
   "cell_type": "code",
   "execution_count": 16,
   "id": "7600e905",
   "metadata": {},
   "outputs": [],
   "source": [
    "start_date = '2000-01-01'\n",
    "end_date = '2020-01-01'\n",
    "\n",
    "# Fred API key: ab766afb0df13dba8492403a7865f852\n",
    "fred = Fred(api_key = 'ab766afb0df13dba8492403a7865f852')\n",
    "\n",
    "df11 = {}\n",
    "df11['DTB4WK'] = fred.get_series('DTB4WK', observation_start=start_date, observation_end=end_date)\n",
    "df11['DTB3'] = fred.get_series('DTB3', observation_start=start_date, observation_end=end_date)\n",
    "df11['DTB6'] = fred.get_series('DTB6', observation_start=start_date, observation_end=end_date)\n",
    "df11['DGS5'] = fred.get_series('DGS5', observation_start=start_date, observation_end=end_date)\n",
    "df11['DGS10'] = fred.get_series('DGS10', observation_start=start_date, observation_end=end_date)\n",
    "df11 = pd.DataFrame(df11)"
   ]
  },
  {
   "cell_type": "code",
   "execution_count": 10,
   "id": "e33fb578",
   "metadata": {},
   "outputs": [],
   "source": [
    "T120 = fred.get_series('DGS10', observation_start=start_date, observation_end=end_date)\n",
    "T1 = fred.get_series('DTB4WK', observation_start=start_date, observation_end=end_date)\n",
    "T3 = fred.get_series('DTB3', observation_start=start_date, observation_end=end_date)\n",
    "T6 = fred.get_series('DTB6', observation_start=start_date, observation_end=end_date)\n",
    "\n",
    "BAA = fred.get_series('DBAA', observation_start=start_date, observation_end=end_date)\n",
    "AAA = fred.get_series('DAAA', observation_start=start_date, observation_end=end_date)"
   ]
  },
  {
   "cell_type": "code",
   "execution_count": 11,
   "id": "15d22699",
   "metadata": {},
   "outputs": [],
   "source": [
    "def generate_feature(f1, f2):\n",
    "    '''\n",
    "    compare and choose latest start date and earliest end date\n",
    "    '''\n",
    "    start_date = max(f1.index[0], f2.index[0])\n",
    "    end_date = min(f1.index[-1], f2.index[-1])\n",
    "    feature = f1[(f1.index >= start_date) & (f1.index <= end_date)] \\\n",
    "        - f2[(f2.index >= start_date) & (f2.index <= end_date)]\n",
    "    return feature"
   ]
  },
  {
   "cell_type": "code",
   "execution_count": 12,
   "id": "33ed18f2",
   "metadata": {},
   "outputs": [],
   "source": [
    "TE1 = generate_feature(T120, T1)\n",
    "TE2 = generate_feature(T120, T3)\n",
    "TE3 = generate_feature(T120, T6)\n",
    "TE5 = generate_feature(T3, T1)\n",
    "TE6 = generate_feature(T6, T1)\n",
    "DE1 = generate_feature(BAA, AAA)\n",
    "DE2 = generate_feature(BAA, T120)\n",
    "DE4 = generate_feature(BAA, T6)\n",
    "DE5 = generate_feature(BAA, T3)\n",
    "DE6 = generate_feature(BAA, T1)"
   ]
  },
  {
   "cell_type": "code",
   "execution_count": 13,
   "id": "1c5947bc",
   "metadata": {},
   "outputs": [],
   "source": [
    "data = pd.read_csv(\"https://www.federalreserve.gov/datadownload/Output.aspx?rel=H15&series=bf17364827e38702b42a58cf8eaa3f78&lastobs=&from=&to=&filetype=csv&label=include&layout=seriescolumn&type=package\")\n",
    "data = data.iloc[5:,:]\n",
    "data['Series Description'] = pd.to_datetime(data['Series Description'])\n",
    "CTB3M = pd.Series(data['Market yield on U.S. Treasury securities at 3-month   constant maturity, quoted on investment basis'])\n",
    "CTB3M.reset_index(drop=True, inplace=True)\n",
    "CTB3M.index = data['Series Description'].values\n",
    "CTB3M = CTB3M.dropna()\n",
    "CTB3M = CTB3M[CTB3M.values != 'ND'].astype(float)\n",
    "CTB3M = CTB3M[(CTB3M.index >= start_date) & (CTB3M.index <= end_date)]\n",
    "CTB3M = CTB3M - CTB3M.shift()"
   ]
  },
  {
   "cell_type": "code",
   "execution_count": 14,
   "id": "d94b5d4a",
   "metadata": {},
   "outputs": [
    {
     "data": {
      "text/plain": [
       "2000-01-03     NaN\n",
       "2000-01-04   -0.06\n",
       "2000-01-05   -0.01\n",
       "2000-01-06   -0.05\n",
       "2000-01-07   -0.03\n",
       "              ... \n",
       "2019-12-24    0.01\n",
       "2019-12-26    0.00\n",
       "2019-12-27   -0.02\n",
       "2019-12-30    0.01\n",
       "2019-12-31    0.00\n",
       "Name: Market yield on U.S. Treasury securities at 6-month   constant maturity, quoted on investment basis, Length: 5002, dtype: float64"
      ]
     },
     "execution_count": 14,
     "metadata": {},
     "output_type": "execute_result"
    }
   ],
   "source": [
    "CTB6M = pd.Series(data['Market yield on U.S. Treasury securities at 6-month   constant maturity, quoted on investment basis'])\n",
    "CTB6M.reset_index(drop=True, inplace=True)\n",
    "CTB6M.index = data['Series Description'].values\n",
    "CTB6M = CTB6M.dropna()\n",
    "CTB6M = CTB6M[CTB6M.values != 'ND'].astype(float)\n",
    "CTB6M = CTB6M[(CTB6M.index >= start_date) & (CTB6M.index <= end_date)]\n",
    "CTB6M = CTB6M - CTB6M.shift()\n",
    "CTB6M"
   ]
  },
  {
   "cell_type": "code",
   "execution_count": 15,
   "id": "770b06f1",
   "metadata": {},
   "outputs": [
    {
     "data": {
      "text/plain": [
       "2000-01-03     NaN\n",
       "2000-01-04   -0.09\n",
       "2000-01-05    0.05\n",
       "2000-01-06   -0.02\n",
       "2000-01-07   -0.03\n",
       "              ... \n",
       "2019-12-24    0.00\n",
       "2019-12-26    0.00\n",
       "2019-12-27   -0.02\n",
       "2019-12-30    0.06\n",
       "2019-12-31    0.02\n",
       "Name: Market yield on U.S. Treasury securities at 1-year   constant maturity, quoted on investment basis, Length: 5002, dtype: float64"
      ]
     },
     "execution_count": 15,
     "metadata": {},
     "output_type": "execute_result"
    }
   ],
   "source": [
    "CTB1Y = pd.Series(data['Market yield on U.S. Treasury securities at 1-year   constant maturity, quoted on investment basis'])\n",
    "CTB1Y.reset_index(drop=True, inplace=True)\n",
    "CTB1Y.index = data['Series Description'].values\n",
    "CTB1Y = CTB1Y.dropna()\n",
    "CTB1Y = CTB1Y[CTB1Y.values != 'ND'].astype(float)\n",
    "CTB1Y = CTB1Y[(CTB1Y.index >= start_date) & (CTB1Y.index <= end_date)]\n",
    "CTB1Y = CTB1Y - CTB1Y.shift()\n",
    "CTB1Y"
   ]
  },
  {
   "cell_type": "code",
   "execution_count": null,
   "id": "500cb944",
   "metadata": {},
   "outputs": [],
   "source": [
    "# 2 features not implemented yet for Paper 7\n",
    "\n",
    "#Oil - Relative change of oil price (WTI), Oklahoma\n",
    "#Gold - Relative change of gold price (London market)"
   ]
  }
 ],
 "metadata": {
  "kernelspec": {
   "display_name": "Python 3",
   "language": "python",
   "name": "python3"
  },
  "language_info": {
   "codemirror_mode": {
    "name": "ipython",
    "version": 3
   },
   "file_extension": ".py",
   "mimetype": "text/x-python",
   "name": "python",
   "nbconvert_exporter": "python",
   "pygments_lexer": "ipython3",
   "version": "3.8.8"
  }
 },
 "nbformat": 4,
 "nbformat_minor": 5
}
